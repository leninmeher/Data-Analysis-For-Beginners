{
 "cells": [
  {
   "cell_type": "code",
   "execution_count": 52,
   "metadata": {},
   "outputs": [],
   "source": [
    "import numpy as np\n",
    "import pandas as pd\n",
    "import matplotlib.pyplot as plt\n",
    "import seaborn as sns\n",
    "\n",
    "\n",
    "%matplotlib inline"
   ]
  },
  {
   "cell_type": "markdown",
   "metadata": {},
   "source": [
    "## Cleaning Data"
   ]
  },
  {
   "cell_type": "code",
   "execution_count": 2,
   "metadata": {},
   "outputs": [],
   "source": [
    "df=pd.read_csv('boxoffice.csv')"
   ]
  },
  {
   "cell_type": "code",
   "execution_count": 3,
   "metadata": {},
   "outputs": [
    {
     "data": {
      "text/html": [
       "<div>\n",
       "<style scoped>\n",
       "    .dataframe tbody tr th:only-of-type {\n",
       "        vertical-align: middle;\n",
       "    }\n",
       "\n",
       "    .dataframe tbody tr th {\n",
       "        vertical-align: top;\n",
       "    }\n",
       "\n",
       "    .dataframe thead th {\n",
       "        text-align: right;\n",
       "    }\n",
       "</style>\n",
       "<table border=\"1\" class=\"dataframe\">\n",
       "  <thead>\n",
       "    <tr style=\"text-align: right;\">\n",
       "      <th></th>\n",
       "      <th>movie_name</th>\n",
       "      <th>movie_opening</th>\n",
       "      <th>movie_weekend</th>\n",
       "      <th>movie_firstweek</th>\n",
       "      <th>movie_total</th>\n",
       "      <th>movie_total_worldwide</th>\n",
       "      <th>movie_genre</th>\n",
       "      <th>movie_director</th>\n",
       "      <th>release_date</th>\n",
       "      <th>release_day</th>\n",
       "      <th>release_month</th>\n",
       "      <th>release_year</th>\n",
       "      <th>runtime</th>\n",
       "      <th>producer</th>\n",
       "      <th>banner</th>\n",
       "      <th>actors</th>\n",
       "      <th>movie_details</th>\n",
       "    </tr>\n",
       "  </thead>\n",
       "  <tbody>\n",
       "    <tr>\n",
       "      <th>0</th>\n",
       "      <td>Angrezi Medium</td>\n",
       "      <td>4.03</td>\n",
       "      <td>9.03</td>\n",
       "      <td>9.36</td>\n",
       "      <td>9.36</td>\n",
       "      <td>13.50</td>\n",
       "      <td>Drama, Comedy</td>\n",
       "      <td>Homi Adajania</td>\n",
       "      <td>13 March, 2020</td>\n",
       "      <td>13</td>\n",
       "      <td>Mar</td>\n",
       "      <td>2020</td>\n",
       "      <td>145</td>\n",
       "      <td>Dinesh Vijan , Jyoti Deshpande</td>\n",
       "      <td>Maddock Films, Jio Studios</td>\n",
       "      <td>Irrfan Khan , Radhika Madan, Kareena Kapoor</td>\n",
       "      <td>When his daughter decides to further her studi...</td>\n",
       "    </tr>\n",
       "    <tr>\n",
       "      <th>1</th>\n",
       "      <td>Baaghi 3</td>\n",
       "      <td>17.50</td>\n",
       "      <td>53.83</td>\n",
       "      <td>90.67</td>\n",
       "      <td>93.37</td>\n",
       "      <td>137.00</td>\n",
       "      <td>Action</td>\n",
       "      <td>Ahmed Khan</td>\n",
       "      <td>06 March, 2020</td>\n",
       "      <td>6</td>\n",
       "      <td>Mar</td>\n",
       "      <td>2020</td>\n",
       "      <td>147</td>\n",
       "      <td>Sajid Nadiadwala</td>\n",
       "      <td>Nadiadwala Grandson Entertainment, Fox Star S...</td>\n",
       "      <td>Tiger Shroff , Shraddha Kapoor, Riteish Deshmukh</td>\n",
       "      <td>A man embarks on a bloody rampage to save his ...</td>\n",
       "    </tr>\n",
       "    <tr>\n",
       "      <th>2</th>\n",
       "      <td>Thappad</td>\n",
       "      <td>3.07</td>\n",
       "      <td>14.66</td>\n",
       "      <td>22.79</td>\n",
       "      <td>30.61</td>\n",
       "      <td>44.50</td>\n",
       "      <td>Drama, Social</td>\n",
       "      <td>Anubhav Sinha</td>\n",
       "      <td>28 February, 2020</td>\n",
       "      <td>28</td>\n",
       "      <td>Feb</td>\n",
       "      <td>2020</td>\n",
       "      <td>142</td>\n",
       "      <td>Bhushan Kumar , Krishan Kumar, Anubhav Sinha</td>\n",
       "      <td>Benaras Media Works, T-Series Super Cassettes...</td>\n",
       "      <td>Taapsee Pannu , Pavail Gulati, Dia Mirza</td>\n",
       "      <td>Thappad is a story of Amrita whose seemingly p...</td>\n",
       "    </tr>\n",
       "    <tr>\n",
       "      <th>3</th>\n",
       "      <td>Shubh Mangal Zyada Saavdhan</td>\n",
       "      <td>9.55</td>\n",
       "      <td>32.66</td>\n",
       "      <td>44.84</td>\n",
       "      <td>62.78</td>\n",
       "      <td>86.39</td>\n",
       "      <td>Comedy, Romance</td>\n",
       "      <td>Hitesh Kewalya</td>\n",
       "      <td>21 February, 2020</td>\n",
       "      <td>21</td>\n",
       "      <td>Feb</td>\n",
       "      <td>2020</td>\n",
       "      <td>120</td>\n",
       "      <td>Aanand L Rai , Himanshu Sharma, Bhushan Kumar</td>\n",
       "      <td>Colour Yellow Productions Pvt Ltd, T-Series S...</td>\n",
       "      <td>Ayushman Khurana , Jitendra Kumar, Gajraj Rao</td>\n",
       "      <td>The road to achieving a happy ending is a litt...</td>\n",
       "    </tr>\n",
       "    <tr>\n",
       "      <th>4</th>\n",
       "      <td>Bhoot: Part One - The Haunted Ship</td>\n",
       "      <td>5.10</td>\n",
       "      <td>16.36</td>\n",
       "      <td>24.18</td>\n",
       "      <td>31.97</td>\n",
       "      <td>40.94</td>\n",
       "      <td>Horror</td>\n",
       "      <td>Bhanu Pratap Singh</td>\n",
       "      <td>21 February, 2020</td>\n",
       "      <td>21</td>\n",
       "      <td>Feb</td>\n",
       "      <td>2020</td>\n",
       "      <td>117</td>\n",
       "      <td>Hiroo Johar , Karan Johar, Apoorva Mehta</td>\n",
       "      <td>Dharma Productions, Zee Studios</td>\n",
       "      <td>Vicky Kaushal , Bhumi Pednekar, Ashutosh Rana</td>\n",
       "      <td>A couple is trapped on an abandoned ship lying...</td>\n",
       "    </tr>\n",
       "  </tbody>\n",
       "</table>\n",
       "</div>"
      ],
      "text/plain": [
       "                           movie_name  movie_opening  movie_weekend  \\\n",
       "0                      Angrezi Medium           4.03           9.03   \n",
       "1                            Baaghi 3          17.50          53.83   \n",
       "2                             Thappad           3.07          14.66   \n",
       "3         Shubh Mangal Zyada Saavdhan           9.55          32.66   \n",
       "4  Bhoot: Part One - The Haunted Ship           5.10          16.36   \n",
       "\n",
       "   movie_firstweek  movie_total  movie_total_worldwide      movie_genre  \\\n",
       "0             9.36         9.36                  13.50    Drama, Comedy   \n",
       "1            90.67        93.37                 137.00           Action   \n",
       "2            22.79        30.61                  44.50    Drama, Social   \n",
       "3            44.84        62.78                  86.39  Comedy, Romance   \n",
       "4            24.18        31.97                  40.94           Horror   \n",
       "\n",
       "       movie_director        release_date  release_day release_month  \\\n",
       "0       Homi Adajania     13 March, 2020            13           Mar   \n",
       "1          Ahmed Khan     06 March, 2020             6           Mar   \n",
       "2       Anubhav Sinha  28 February, 2020            28           Feb   \n",
       "3      Hitesh Kewalya  21 February, 2020            21           Feb   \n",
       "4  Bhanu Pratap Singh  21 February, 2020            21           Feb   \n",
       "\n",
       "   release_year  runtime                                        producer  \\\n",
       "0          2020      145                  Dinesh Vijan , Jyoti Deshpande   \n",
       "1          2020      147                                Sajid Nadiadwala   \n",
       "2          2020      142    Bhushan Kumar , Krishan Kumar, Anubhav Sinha   \n",
       "3          2020      120   Aanand L Rai , Himanshu Sharma, Bhushan Kumar   \n",
       "4          2020      117        Hiroo Johar , Karan Johar, Apoorva Mehta   \n",
       "\n",
       "                                              banner  \\\n",
       "0                         Maddock Films, Jio Studios   \n",
       "1   Nadiadwala Grandson Entertainment, Fox Star S...   \n",
       "2   Benaras Media Works, T-Series Super Cassettes...   \n",
       "3   Colour Yellow Productions Pvt Ltd, T-Series S...   \n",
       "4                    Dharma Productions, Zee Studios   \n",
       "\n",
       "                                              actors  \\\n",
       "0        Irrfan Khan , Radhika Madan, Kareena Kapoor   \n",
       "1   Tiger Shroff , Shraddha Kapoor, Riteish Deshmukh   \n",
       "2           Taapsee Pannu , Pavail Gulati, Dia Mirza   \n",
       "3      Ayushman Khurana , Jitendra Kumar, Gajraj Rao   \n",
       "4      Vicky Kaushal , Bhumi Pednekar, Ashutosh Rana   \n",
       "\n",
       "                                       movie_details  \n",
       "0  When his daughter decides to further her studi...  \n",
       "1  A man embarks on a bloody rampage to save his ...  \n",
       "2  Thappad is a story of Amrita whose seemingly p...  \n",
       "3  The road to achieving a happy ending is a litt...  \n",
       "4  A couple is trapped on an abandoned ship lying...  "
      ]
     },
     "execution_count": 3,
     "metadata": {},
     "output_type": "execute_result"
    }
   ],
   "source": [
    "df.head()"
   ]
  },
  {
   "cell_type": "code",
   "execution_count": 4,
   "metadata": {},
   "outputs": [],
   "source": [
    "lst=['movie_details','actors','producer','banner','release_day','release_date']\n",
    "df.drop(lst,axis=1,inplace=True)"
   ]
  },
  {
   "cell_type": "code",
   "execution_count": 5,
   "metadata": {},
   "outputs": [
    {
     "data": {
      "text/html": [
       "<div>\n",
       "<style scoped>\n",
       "    .dataframe tbody tr th:only-of-type {\n",
       "        vertical-align: middle;\n",
       "    }\n",
       "\n",
       "    .dataframe tbody tr th {\n",
       "        vertical-align: top;\n",
       "    }\n",
       "\n",
       "    .dataframe thead th {\n",
       "        text-align: right;\n",
       "    }\n",
       "</style>\n",
       "<table border=\"1\" class=\"dataframe\">\n",
       "  <thead>\n",
       "    <tr style=\"text-align: right;\">\n",
       "      <th></th>\n",
       "      <th>movie_name</th>\n",
       "      <th>movie_opening</th>\n",
       "      <th>movie_weekend</th>\n",
       "      <th>movie_firstweek</th>\n",
       "      <th>movie_total</th>\n",
       "      <th>movie_total_worldwide</th>\n",
       "      <th>movie_genre</th>\n",
       "      <th>movie_director</th>\n",
       "      <th>release_month</th>\n",
       "      <th>release_year</th>\n",
       "      <th>runtime</th>\n",
       "    </tr>\n",
       "  </thead>\n",
       "  <tbody>\n",
       "    <tr>\n",
       "      <th>0</th>\n",
       "      <td>Angrezi Medium</td>\n",
       "      <td>4.03</td>\n",
       "      <td>9.03</td>\n",
       "      <td>9.36</td>\n",
       "      <td>9.36</td>\n",
       "      <td>13.50</td>\n",
       "      <td>Drama, Comedy</td>\n",
       "      <td>Homi Adajania</td>\n",
       "      <td>Mar</td>\n",
       "      <td>2020</td>\n",
       "      <td>145</td>\n",
       "    </tr>\n",
       "    <tr>\n",
       "      <th>1</th>\n",
       "      <td>Baaghi 3</td>\n",
       "      <td>17.50</td>\n",
       "      <td>53.83</td>\n",
       "      <td>90.67</td>\n",
       "      <td>93.37</td>\n",
       "      <td>137.00</td>\n",
       "      <td>Action</td>\n",
       "      <td>Ahmed Khan</td>\n",
       "      <td>Mar</td>\n",
       "      <td>2020</td>\n",
       "      <td>147</td>\n",
       "    </tr>\n",
       "    <tr>\n",
       "      <th>2</th>\n",
       "      <td>Thappad</td>\n",
       "      <td>3.07</td>\n",
       "      <td>14.66</td>\n",
       "      <td>22.79</td>\n",
       "      <td>30.61</td>\n",
       "      <td>44.50</td>\n",
       "      <td>Drama, Social</td>\n",
       "      <td>Anubhav Sinha</td>\n",
       "      <td>Feb</td>\n",
       "      <td>2020</td>\n",
       "      <td>142</td>\n",
       "    </tr>\n",
       "    <tr>\n",
       "      <th>3</th>\n",
       "      <td>Shubh Mangal Zyada Saavdhan</td>\n",
       "      <td>9.55</td>\n",
       "      <td>32.66</td>\n",
       "      <td>44.84</td>\n",
       "      <td>62.78</td>\n",
       "      <td>86.39</td>\n",
       "      <td>Comedy, Romance</td>\n",
       "      <td>Hitesh Kewalya</td>\n",
       "      <td>Feb</td>\n",
       "      <td>2020</td>\n",
       "      <td>120</td>\n",
       "    </tr>\n",
       "    <tr>\n",
       "      <th>4</th>\n",
       "      <td>Bhoot: Part One - The Haunted Ship</td>\n",
       "      <td>5.10</td>\n",
       "      <td>16.36</td>\n",
       "      <td>24.18</td>\n",
       "      <td>31.97</td>\n",
       "      <td>40.94</td>\n",
       "      <td>Horror</td>\n",
       "      <td>Bhanu Pratap Singh</td>\n",
       "      <td>Feb</td>\n",
       "      <td>2020</td>\n",
       "      <td>117</td>\n",
       "    </tr>\n",
       "  </tbody>\n",
       "</table>\n",
       "</div>"
      ],
      "text/plain": [
       "                           movie_name  movie_opening  movie_weekend  \\\n",
       "0                      Angrezi Medium           4.03           9.03   \n",
       "1                            Baaghi 3          17.50          53.83   \n",
       "2                             Thappad           3.07          14.66   \n",
       "3         Shubh Mangal Zyada Saavdhan           9.55          32.66   \n",
       "4  Bhoot: Part One - The Haunted Ship           5.10          16.36   \n",
       "\n",
       "   movie_firstweek  movie_total  movie_total_worldwide      movie_genre  \\\n",
       "0             9.36         9.36                  13.50    Drama, Comedy   \n",
       "1            90.67        93.37                 137.00           Action   \n",
       "2            22.79        30.61                  44.50    Drama, Social   \n",
       "3            44.84        62.78                  86.39  Comedy, Romance   \n",
       "4            24.18        31.97                  40.94           Horror   \n",
       "\n",
       "       movie_director release_month  release_year  runtime  \n",
       "0       Homi Adajania           Mar          2020      145  \n",
       "1          Ahmed Khan           Mar          2020      147  \n",
       "2       Anubhav Sinha           Feb          2020      142  \n",
       "3      Hitesh Kewalya           Feb          2020      120  \n",
       "4  Bhanu Pratap Singh           Feb          2020      117  "
      ]
     },
     "execution_count": 5,
     "metadata": {},
     "output_type": "execute_result"
    }
   ],
   "source": [
    "df.head()"
   ]
  },
  {
   "cell_type": "code",
   "execution_count": 6,
   "metadata": {},
   "outputs": [
    {
     "data": {
      "text/plain": [
       "dtype('O')"
      ]
     },
     "execution_count": 6,
     "metadata": {},
     "output_type": "execute_result"
    }
   ],
   "source": [
    "df['movie_genre'].value_counts()\n",
    "np.dtype(df['movie_genre'])"
   ]
  },
  {
   "cell_type": "code",
   "execution_count": 7,
   "metadata": {},
   "outputs": [
    {
     "data": {
      "text/plain": [
       "<matplotlib.axes._subplots.AxesSubplot at 0x20e26af8550>"
      ]
     },
     "execution_count": 7,
     "metadata": {},
     "output_type": "execute_result"
    },
    {
     "data": {
      "image/png": "[encoded data removed]",
      "text/plain": [
       "<Figure size 432x288 with 2 Axes>"
      ]
     },
     "metadata": {
      "needs_background": "light"
     },
     "output_type": "display_data"
    }
   ],
   "source": [
    "\n",
    "sns.heatmap(df.isnull())"
   ]
  },
  {
   "cell_type": "code",
   "execution_count": 8,
   "metadata": {},
   "outputs": [
    {
     "data": {
      "text/plain": [
       "movie_name               0\n",
       "movie_opening            0\n",
       "movie_weekend            0\n",
       "movie_firstweek          0\n",
       "movie_total              0\n",
       "movie_total_worldwide    0\n",
       "movie_genre              1\n",
       "movie_director           0\n",
       "release_month            0\n",
       "release_year             0\n",
       "runtime                  0\n",
       "dtype: int64"
      ]
     },
     "execution_count": 8,
     "metadata": {},
     "output_type": "execute_result"
    }
   ],
   "source": [
    "df.isnull().sum()"
   ]
  },
  {
   "cell_type": "code",
   "execution_count": 9,
   "metadata": {},
   "outputs": [],
   "source": [
    "df.dropna(axis=0,inplace=True)"
   ]
  },
  {
   "cell_type": "code",
   "execution_count": 10,
   "metadata": {},
   "outputs": [
    {
     "data": {
      "text/plain": [
       "<matplotlib.axes._subplots.AxesSubplot at 0x20e26ae25b0>"
      ]
     },
     "execution_count": 10,
     "metadata": {},
     "output_type": "execute_result"
    },
    {
     "data": {
      "image/png": "[encoded data removed]",
      "text/plain": [
       "<Figure size 432x288 with 2 Axes>"
      ]
     },
     "metadata": {
      "needs_background": "light"
     },
     "output_type": "display_data"
    }
   ],
   "source": [
    "sns.heatmap(df.isnull())"
   ]
  },
  {
   "cell_type": "code",
   "execution_count": 11,
   "metadata": {},
   "outputs": [],
   "source": [
    "df['Genre']=df['movie_genre'].apply(lambda x:x.split(',')[0])"
   ]
  },
  {
   "cell_type": "code",
   "execution_count": 12,
   "metadata": {},
   "outputs": [
    {
     "data": {
      "text/html": [
       "<div>\n",
       "<style scoped>\n",
       "    .dataframe tbody tr th:only-of-type {\n",
       "        vertical-align: middle;\n",
       "    }\n",
       "\n",
       "    .dataframe tbody tr th {\n",
       "        vertical-align: top;\n",
       "    }\n",
       "\n",
       "    .dataframe thead th {\n",
       "        text-align: right;\n",
       "    }\n",
       "</style>\n",
       "<table border=\"1\" class=\"dataframe\">\n",
       "  <thead>\n",
       "    <tr style=\"text-align: right;\">\n",
       "      <th></th>\n",
       "      <th>movie_name</th>\n",
       "      <th>movie_opening</th>\n",
       "      <th>movie_weekend</th>\n",
       "      <th>movie_firstweek</th>\n",
       "      <th>movie_total</th>\n",
       "      <th>movie_total_worldwide</th>\n",
       "      <th>movie_genre</th>\n",
       "      <th>movie_director</th>\n",
       "      <th>release_month</th>\n",
       "      <th>release_year</th>\n",
       "      <th>runtime</th>\n",
       "      <th>Genre</th>\n",
       "    </tr>\n",
       "  </thead>\n",
       "  <tbody>\n",
       "    <tr>\n",
       "      <th>0</th>\n",
       "      <td>Angrezi Medium</td>\n",
       "      <td>4.03</td>\n",
       "      <td>9.03</td>\n",
       "      <td>9.36</td>\n",
       "      <td>9.36</td>\n",
       "      <td>13.50</td>\n",
       "      <td>Drama, Comedy</td>\n",
       "      <td>Homi Adajania</td>\n",
       "      <td>Mar</td>\n",
       "      <td>2020</td>\n",
       "      <td>145</td>\n",
       "      <td>Drama</td>\n",
       "    </tr>\n",
       "    <tr>\n",
       "      <th>1</th>\n",
       "      <td>Baaghi 3</td>\n",
       "      <td>17.50</td>\n",
       "      <td>53.83</td>\n",
       "      <td>90.67</td>\n",
       "      <td>93.37</td>\n",
       "      <td>137.00</td>\n",
       "      <td>Action</td>\n",
       "      <td>Ahmed Khan</td>\n",
       "      <td>Mar</td>\n",
       "      <td>2020</td>\n",
       "      <td>147</td>\n",
       "      <td>Action</td>\n",
       "    </tr>\n",
       "    <tr>\n",
       "      <th>2</th>\n",
       "      <td>Thappad</td>\n",
       "      <td>3.07</td>\n",
       "      <td>14.66</td>\n",
       "      <td>22.79</td>\n",
       "      <td>30.61</td>\n",
       "      <td>44.50</td>\n",
       "      <td>Drama, Social</td>\n",
       "      <td>Anubhav Sinha</td>\n",
       "      <td>Feb</td>\n",
       "      <td>2020</td>\n",
       "      <td>142</td>\n",
       "      <td>Drama</td>\n",
       "    </tr>\n",
       "    <tr>\n",
       "      <th>3</th>\n",
       "      <td>Shubh Mangal Zyada Saavdhan</td>\n",
       "      <td>9.55</td>\n",
       "      <td>32.66</td>\n",
       "      <td>44.84</td>\n",
       "      <td>62.78</td>\n",
       "      <td>86.39</td>\n",
       "      <td>Comedy, Romance</td>\n",
       "      <td>Hitesh Kewalya</td>\n",
       "      <td>Feb</td>\n",
       "      <td>2020</td>\n",
       "      <td>120</td>\n",
       "      <td>Comedy</td>\n",
       "    </tr>\n",
       "    <tr>\n",
       "      <th>4</th>\n",
       "      <td>Bhoot: Part One - The Haunted Ship</td>\n",
       "      <td>5.10</td>\n",
       "      <td>16.36</td>\n",
       "      <td>24.18</td>\n",
       "      <td>31.97</td>\n",
       "      <td>40.94</td>\n",
       "      <td>Horror</td>\n",
       "      <td>Bhanu Pratap Singh</td>\n",
       "      <td>Feb</td>\n",
       "      <td>2020</td>\n",
       "      <td>117</td>\n",
       "      <td>Horror</td>\n",
       "    </tr>\n",
       "  </tbody>\n",
       "</table>\n",
       "</div>"
      ],
      "text/plain": [
       "                           movie_name  movie_opening  movie_weekend  \\\n",
       "0                      Angrezi Medium           4.03           9.03   \n",
       "1                            Baaghi 3          17.50          53.83   \n",
       "2                             Thappad           3.07          14.66   \n",
       "3         Shubh Mangal Zyada Saavdhan           9.55          32.66   \n",
       "4  Bhoot: Part One - The Haunted Ship           5.10          16.36   \n",
       "\n",
       "   movie_firstweek  movie_total  movie_total_worldwide      movie_genre  \\\n",
       "0             9.36         9.36                  13.50    Drama, Comedy   \n",
       "1            90.67        93.37                 137.00           Action   \n",
       "2            22.79        30.61                  44.50    Drama, Social   \n",
       "3            44.84        62.78                  86.39  Comedy, Romance   \n",
       "4            24.18        31.97                  40.94           Horror   \n",
       "\n",
       "       movie_director release_month  release_year  runtime   Genre  \n",
       "0       Homi Adajania           Mar          2020      145   Drama  \n",
       "1          Ahmed Khan           Mar          2020      147  Action  \n",
       "2       Anubhav Sinha           Feb          2020      142   Drama  \n",
       "3      Hitesh Kewalya           Feb          2020      120  Comedy  \n",
       "4  Bhanu Pratap Singh           Feb          2020      117  Horror  "
      ]
     },
     "execution_count": 12,
     "metadata": {},
     "output_type": "execute_result"
    }
   ],
   "source": [
    "df.head()"
   ]
  },
  {
   "cell_type": "code",
   "execution_count": 13,
   "metadata": {},
   "outputs": [],
   "source": [
    "df.drop(['movie_genre'],axis=1,inplace=True)"
   ]
  },
  {
   "cell_type": "code",
   "execution_count": 14,
   "metadata": {},
   "outputs": [
    {
     "data": {
      "text/plain": [
       "Comedy          33\n",
       "Drama           32\n",
       "Action          21\n",
       "Biographical    10\n",
       "Thriller         6\n",
       "Crime            6\n",
       "Horror           5\n",
       "Romance          4\n",
       "Historical       4\n",
       "Period           2\n",
       "Sports           1\n",
       "Social           1\n",
       "Dance            1\n",
       "Musical          1\n",
       "Spy              1\n",
       "Sci-fi           1\n",
       "Name: Genre, dtype: int64"
      ]
     },
     "execution_count": 14,
     "metadata": {},
     "output_type": "execute_result"
    }
   ],
   "source": [
    "df['Genre'].value_counts()"
   ]
  },
  {
   "cell_type": "code",
   "execution_count": 15,
   "metadata": {},
   "outputs": [
    {
     "data": {
      "text/html": [
       "<div>\n",
       "<style scoped>\n",
       "    .dataframe tbody tr th:only-of-type {\n",
       "        vertical-align: middle;\n",
       "    }\n",
       "\n",
       "    .dataframe tbody tr th {\n",
       "        vertical-align: top;\n",
       "    }\n",
       "\n",
       "    .dataframe thead th {\n",
       "        text-align: right;\n",
       "    }\n",
       "</style>\n",
       "<table border=\"1\" class=\"dataframe\">\n",
       "  <thead>\n",
       "    <tr style=\"text-align: right;\">\n",
       "      <th></th>\n",
       "      <th>movie_name</th>\n",
       "      <th>movie_opening</th>\n",
       "      <th>movie_weekend</th>\n",
       "      <th>movie_firstweek</th>\n",
       "      <th>movie_total</th>\n",
       "      <th>movie_total_worldwide</th>\n",
       "      <th>movie_director</th>\n",
       "      <th>release_month</th>\n",
       "      <th>release_year</th>\n",
       "      <th>runtime</th>\n",
       "      <th>Genre</th>\n",
       "    </tr>\n",
       "  </thead>\n",
       "  <tbody>\n",
       "    <tr>\n",
       "      <th>0</th>\n",
       "      <td>Angrezi Medium</td>\n",
       "      <td>4.03</td>\n",
       "      <td>9.03</td>\n",
       "      <td>9.36</td>\n",
       "      <td>9.36</td>\n",
       "      <td>13.50</td>\n",
       "      <td>Homi Adajania</td>\n",
       "      <td>Mar</td>\n",
       "      <td>2020</td>\n",
       "      <td>145</td>\n",
       "      <td>Drama</td>\n",
       "    </tr>\n",
       "    <tr>\n",
       "      <th>1</th>\n",
       "      <td>Baaghi 3</td>\n",
       "      <td>17.50</td>\n",
       "      <td>53.83</td>\n",
       "      <td>90.67</td>\n",
       "      <td>93.37</td>\n",
       "      <td>137.00</td>\n",
       "      <td>Ahmed Khan</td>\n",
       "      <td>Mar</td>\n",
       "      <td>2020</td>\n",
       "      <td>147</td>\n",
       "      <td>Action</td>\n",
       "    </tr>\n",
       "    <tr>\n",
       "      <th>2</th>\n",
       "      <td>Thappad</td>\n",
       "      <td>3.07</td>\n",
       "      <td>14.66</td>\n",
       "      <td>22.79</td>\n",
       "      <td>30.61</td>\n",
       "      <td>44.50</td>\n",
       "      <td>Anubhav Sinha</td>\n",
       "      <td>Feb</td>\n",
       "      <td>2020</td>\n",
       "      <td>142</td>\n",
       "      <td>Drama</td>\n",
       "    </tr>\n",
       "    <tr>\n",
       "      <th>3</th>\n",
       "      <td>Shubh Mangal Zyada Saavdhan</td>\n",
       "      <td>9.55</td>\n",
       "      <td>32.66</td>\n",
       "      <td>44.84</td>\n",
       "      <td>62.78</td>\n",
       "      <td>86.39</td>\n",
       "      <td>Hitesh Kewalya</td>\n",
       "      <td>Feb</td>\n",
       "      <td>2020</td>\n",
       "      <td>120</td>\n",
       "      <td>Comedy</td>\n",
       "    </tr>\n",
       "    <tr>\n",
       "      <th>4</th>\n",
       "      <td>Bhoot: Part One - The Haunted Ship</td>\n",
       "      <td>5.10</td>\n",
       "      <td>16.36</td>\n",
       "      <td>24.18</td>\n",
       "      <td>31.97</td>\n",
       "      <td>40.94</td>\n",
       "      <td>Bhanu Pratap Singh</td>\n",
       "      <td>Feb</td>\n",
       "      <td>2020</td>\n",
       "      <td>117</td>\n",
       "      <td>Horror</td>\n",
       "    </tr>\n",
       "  </tbody>\n",
       "</table>\n",
       "</div>"
      ],
      "text/plain": [
       "                           movie_name  movie_opening  movie_weekend  \\\n",
       "0                      Angrezi Medium           4.03           9.03   \n",
       "1                            Baaghi 3          17.50          53.83   \n",
       "2                             Thappad           3.07          14.66   \n",
       "3         Shubh Mangal Zyada Saavdhan           9.55          32.66   \n",
       "4  Bhoot: Part One - The Haunted Ship           5.10          16.36   \n",
       "\n",
       "   movie_firstweek  movie_total  movie_total_worldwide      movie_director  \\\n",
       "0             9.36         9.36                  13.50       Homi Adajania   \n",
       "1            90.67        93.37                 137.00          Ahmed Khan   \n",
       "2            22.79        30.61                  44.50       Anubhav Sinha   \n",
       "3            44.84        62.78                  86.39      Hitesh Kewalya   \n",
       "4            24.18        31.97                  40.94  Bhanu Pratap Singh   \n",
       "\n",
       "  release_month  release_year  runtime   Genre  \n",
       "0           Mar          2020      145   Drama  \n",
       "1           Mar          2020      147  Action  \n",
       "2           Feb          2020      142   Drama  \n",
       "3           Feb          2020      120  Comedy  \n",
       "4           Feb          2020      117  Horror  "
      ]
     },
     "execution_count": 15,
     "metadata": {},
     "output_type": "execute_result"
    }
   ],
   "source": [
    "df.head()"
   ]
  },
  {
   "cell_type": "code",
   "execution_count": 16,
   "metadata": {},
   "outputs": [
    {
     "data": {
      "text/plain": [
       "2019    50\n",
       "2018    49\n",
       "2017    17\n",
       "2020    13\n",
       "Name: release_year, dtype: int64"
      ]
     },
     "execution_count": 16,
     "metadata": {},
     "output_type": "execute_result"
    }
   ],
   "source": [
    "df['release_year'].value_counts()"
   ]
  },
  {
   "cell_type": "markdown",
   "metadata": {},
   "source": [
    "## Data Visualisation and Analysis"
   ]
  },
  {
   "cell_type": "code",
   "execution_count": 17,
   "metadata": {},
   "outputs": [
    {
     "data": {
      "text/plain": [
       "Index(['movie_name', 'movie_opening', 'movie_weekend', 'movie_firstweek',\n",
       "       'movie_total', 'movie_total_worldwide', 'movie_director',\n",
       "       'release_month', 'release_year', 'runtime', 'Genre'],\n",
       "      dtype='object')"
      ]
     },
     "execution_count": 17,
     "metadata": {},
     "output_type": "execute_result"
    }
   ],
   "source": [
    "df.columns"
   ]
  },
  {
   "cell_type": "code",
   "execution_count": 18,
   "metadata": {},
   "outputs": [
    {
     "data": {
      "text/plain": [
       "(129, 11)"
      ]
     },
     "execution_count": 18,
     "metadata": {},
     "output_type": "execute_result"
    }
   ],
   "source": [
    "df.shape"
   ]
  },
  {
   "cell_type": "code",
   "execution_count": 19,
   "metadata": {},
   "outputs": [
    {
     "data": {
      "text/plain": [
       "<matplotlib.axes._subplots.AxesSubplot at 0x20e28cd1eb0>"
      ]
     },
     "execution_count": 19,
     "metadata": {},
     "output_type": "execute_result"
    },
    {
     "data": {
      "image/png": "[encoded data removed]",
      "text/plain": [
       "<Figure size 432x288 with 2 Axes>"
      ]
     },
     "metadata": {
      "needs_background": "light"
     },
     "output_type": "display_data"
    }
   ],
   "source": [
    "sns.heatmap(df.corr())"
   ]
  },
  {
   "cell_type": "code",
   "execution_count": null,
   "metadata": {},
   "outputs": [],
   "source": []
  },
  {
   "cell_type": "code",
   "execution_count": 20,
   "metadata": {},
   "outputs": [
    {
     "data": {
      "text/plain": [
       "<matplotlib.axes._subplots.AxesSubplot at 0x20e28ccb040>"
      ]
     },
     "execution_count": 20,
     "metadata": {},
     "output_type": "execute_result"
    },
    {
     "data": {
      "image/png": "[encoded data removed]",
      "text/plain": [
       "<Figure size 1080x504 with 1 Axes>"
      ]
     },
     "metadata": {
      "needs_background": "light"
     },
     "output_type": "display_data"
    }
   ],
   "source": [
    "plt.figure(figsize=(15,7))\n",
    "sns.barplot('Genre','movie_total',data=df)"
   ]
  },
  {
   "cell_type": "code",
   "execution_count": 21,
   "metadata": {},
   "outputs": [
    {
     "data": {
      "text/plain": [
       "<matplotlib.axes._subplots.AxesSubplot at 0x20e28e67a90>"
      ]
     },
     "execution_count": 21,
     "metadata": {},
     "output_type": "execute_result"
    },
    {
     "data": {
      "image/png": "[encoded data removed]",
      "text/plain": [
       "<Figure size 1080x504 with 1 Axes>"
      ]
     },
     "metadata": {
      "needs_background": "light"
     },
     "output_type": "display_data"
    }
   ],
   "source": [
    "plt.figure(figsize=(15,7))\n",
    "sns.barplot('Genre','movie_total_worldwide',data=df)"
   ]
  },
  {
   "cell_type": "markdown",
   "metadata": {},
   "source": [
    "In India,people love to watch Sci-fi and Historical movies but in worldwide people just love scifi."
   ]
  },
  {
   "cell_type": "code",
   "execution_count": 22,
   "metadata": {},
   "outputs": [
    {
     "data": {
      "text/plain": [
       "<matplotlib.axes._subplots.AxesSubplot at 0x20e28f38d30>"
      ]
     },
     "execution_count": 22,
     "metadata": {},
     "output_type": "execute_result"
    },
    {
     "data": {
      "image/png": "[encoded data removed]",
      "text/plain": [
       "<Figure size 432x288 with 1 Axes>"
      ]
     },
     "metadata": {
      "needs_background": "light"
     },
     "output_type": "display_data"
    }
   ],
   "source": [
    "sns.regplot('movie_total','movie_opening',data=df)"
   ]
  },
  {
   "cell_type": "code",
   "execution_count": 23,
   "metadata": {},
   "outputs": [
    {
     "data": {
      "text/plain": [
       "<matplotlib.axes._subplots.AxesSubplot at 0x20e28f9a6a0>"
      ]
     },
     "execution_count": 23,
     "metadata": {},
     "output_type": "execute_result"
    },
    {
     "data": {
      "image/png": "[encoded data removed]",
      "text/plain": [
       "<Figure size 432x288 with 1 Axes>"
      ]
     },
     "metadata": {
      "needs_background": "light"
     },
     "output_type": "display_data"
    }
   ],
   "source": [
    "sns.boxplot('release_year','movie_total',data=df)"
   ]
  },
  {
   "cell_type": "code",
   "execution_count": 24,
   "metadata": {},
   "outputs": [
    {
     "data": {
      "text/plain": [
       "<matplotlib.axes._subplots.AxesSubplot at 0x20e290369a0>"
      ]
     },
     "execution_count": 24,
     "metadata": {},
     "output_type": "execute_result"
    },
    {
     "data": {
      "image/png": "[encoded data removed]",
      "text/plain": [
       "<Figure size 432x288 with 1 Axes>"
      ]
     },
     "metadata": {
      "needs_background": "light"
     },
     "output_type": "display_data"
    }
   ],
   "source": [
    "sns.boxplot('release_month','movie_total',data=df)"
   ]
  },
  {
   "cell_type": "markdown",
   "metadata": {},
   "source": [
    "Want to earn money,release your movies in weekend months(June and December)."
   ]
  },
  {
   "cell_type": "code",
   "execution_count": 25,
   "metadata": {},
   "outputs": [
    {
     "data": {
      "text/plain": [
       "<matplotlib.axes._subplots.AxesSubplot at 0x20e29325ca0>"
      ]
     },
     "execution_count": 25,
     "metadata": {},
     "output_type": "execute_result"
    },
    {
     "data": {
      "image/png": "[encoded data removed]",
      "text/plain": [
       "<Figure size 1080x504 with 1 Axes>"
      ]
     },
     "metadata": {
      "needs_background": "light"
     },
     "output_type": "display_data"
    }
   ],
   "source": [
    "plt.figure(figsize=(15,7))\n",
    "sns.boxplot('release_month','movie_total',data=df,hue='release_year')"
   ]
  },
  {
   "cell_type": "markdown",
   "metadata": {},
   "source": [
    "Consequences of COVID19 can be clearly seen in bolly industry. But 2019 had achieved new heights and have been a successful year in bolly film industry."
   ]
  },
  {
   "cell_type": "code",
   "execution_count": 26,
   "metadata": {},
   "outputs": [],
   "source": [
    "Jun=pd.DataFrame(df.loc[(df['release_month']=='Jun')])"
   ]
  },
  {
   "cell_type": "code",
   "execution_count": 27,
   "metadata": {},
   "outputs": [
    {
     "data": {
      "text/html": [
       "<div>\n",
       "<style scoped>\n",
       "    .dataframe tbody tr th:only-of-type {\n",
       "        vertical-align: middle;\n",
       "    }\n",
       "\n",
       "    .dataframe tbody tr th {\n",
       "        vertical-align: top;\n",
       "    }\n",
       "\n",
       "    .dataframe thead th {\n",
       "        text-align: right;\n",
       "    }\n",
       "</style>\n",
       "<table border=\"1\" class=\"dataframe\">\n",
       "  <thead>\n",
       "    <tr style=\"text-align: right;\">\n",
       "      <th></th>\n",
       "      <th>movie_name</th>\n",
       "      <th>movie_opening</th>\n",
       "      <th>movie_weekend</th>\n",
       "      <th>movie_firstweek</th>\n",
       "      <th>movie_total</th>\n",
       "      <th>movie_total_worldwide</th>\n",
       "      <th>movie_director</th>\n",
       "      <th>release_month</th>\n",
       "      <th>release_year</th>\n",
       "      <th>runtime</th>\n",
       "      <th>Genre</th>\n",
       "    </tr>\n",
       "  </thead>\n",
       "  <tbody>\n",
       "    <tr>\n",
       "      <th>37</th>\n",
       "      <td>Article 15</td>\n",
       "      <td>5.02</td>\n",
       "      <td>20.04</td>\n",
       "      <td>34.21</td>\n",
       "      <td>63.05</td>\n",
       "      <td>90.15</td>\n",
       "      <td>Anubhav Sinha</td>\n",
       "      <td>Jun</td>\n",
       "      <td>2019</td>\n",
       "      <td>131</td>\n",
       "      <td>Crime</td>\n",
       "    </tr>\n",
       "    <tr>\n",
       "      <th>38</th>\n",
       "      <td>Kabir Singh</td>\n",
       "      <td>20.21</td>\n",
       "      <td>70.83</td>\n",
       "      <td>134.42</td>\n",
       "      <td>278.24</td>\n",
       "      <td>369.58</td>\n",
       "      <td>Sandeep Reddy Vanga</td>\n",
       "      <td>Jun</td>\n",
       "      <td>2019</td>\n",
       "      <td>175</td>\n",
       "      <td>Drama</td>\n",
       "    </tr>\n",
       "    <tr>\n",
       "      <th>39</th>\n",
       "      <td>Game Over</td>\n",
       "      <td>0.97</td>\n",
       "      <td>4.95</td>\n",
       "      <td>9.02</td>\n",
       "      <td>11.06</td>\n",
       "      <td>11.06</td>\n",
       "      <td>Ashwin Saravanan</td>\n",
       "      <td>Jun</td>\n",
       "      <td>2019</td>\n",
       "      <td>103</td>\n",
       "      <td>Thriller</td>\n",
       "    </tr>\n",
       "    <tr>\n",
       "      <th>40</th>\n",
       "      <td>Bharat</td>\n",
       "      <td>42.30</td>\n",
       "      <td>150.10</td>\n",
       "      <td>180.05</td>\n",
       "      <td>201.86</td>\n",
       "      <td>314.68</td>\n",
       "      <td>Ali Abbas Zafar</td>\n",
       "      <td>Jun</td>\n",
       "      <td>2019</td>\n",
       "      <td>155</td>\n",
       "      <td>Drama</td>\n",
       "    </tr>\n",
       "    <tr>\n",
       "      <th>90</th>\n",
       "      <td>Sanju</td>\n",
       "      <td>34.75</td>\n",
       "      <td>120.06</td>\n",
       "      <td>202.51</td>\n",
       "      <td>341.22</td>\n",
       "      <td>579.00</td>\n",
       "      <td>Rajkumar Hirani</td>\n",
       "      <td>Jun</td>\n",
       "      <td>2018</td>\n",
       "      <td>162</td>\n",
       "      <td>Biographical</td>\n",
       "    </tr>\n",
       "    <tr>\n",
       "      <th>91</th>\n",
       "      <td>Race 3</td>\n",
       "      <td>29.17</td>\n",
       "      <td>106.47</td>\n",
       "      <td>144.51</td>\n",
       "      <td>161.04</td>\n",
       "      <td>300.04</td>\n",
       "      <td>Remo D'Souza</td>\n",
       "      <td>Jun</td>\n",
       "      <td>2018</td>\n",
       "      <td>160</td>\n",
       "      <td>Action</td>\n",
       "    </tr>\n",
       "    <tr>\n",
       "      <th>92</th>\n",
       "      <td>Veere Di Wedding</td>\n",
       "      <td>10.70</td>\n",
       "      <td>36.52</td>\n",
       "      <td>56.96</td>\n",
       "      <td>80.23</td>\n",
       "      <td>88.64</td>\n",
       "      <td>Shashanka Ghosh</td>\n",
       "      <td>Jun</td>\n",
       "      <td>2018</td>\n",
       "      <td>125</td>\n",
       "      <td>Comedy</td>\n",
       "    </tr>\n",
       "  </tbody>\n",
       "</table>\n",
       "</div>"
      ],
      "text/plain": [
       "          movie_name  movie_opening  movie_weekend  movie_firstweek  \\\n",
       "37        Article 15           5.02          20.04            34.21   \n",
       "38       Kabir Singh          20.21          70.83           134.42   \n",
       "39         Game Over           0.97           4.95             9.02   \n",
       "40            Bharat          42.30         150.10           180.05   \n",
       "90             Sanju          34.75         120.06           202.51   \n",
       "91            Race 3          29.17         106.47           144.51   \n",
       "92  Veere Di Wedding          10.70          36.52            56.96   \n",
       "\n",
       "    movie_total  movie_total_worldwide       movie_director release_month  \\\n",
       "37        63.05                  90.15        Anubhav Sinha           Jun   \n",
       "38       278.24                 369.58  Sandeep Reddy Vanga           Jun   \n",
       "39        11.06                  11.06     Ashwin Saravanan           Jun   \n",
       "40       201.86                 314.68      Ali Abbas Zafar           Jun   \n",
       "90       341.22                 579.00      Rajkumar Hirani           Jun   \n",
       "91       161.04                 300.04         Remo D'Souza           Jun   \n",
       "92        80.23                  88.64      Shashanka Ghosh           Jun   \n",
       "\n",
       "    release_year  runtime         Genre  \n",
       "37          2019      131         Crime  \n",
       "38          2019      175         Drama  \n",
       "39          2019      103      Thriller  \n",
       "40          2019      155         Drama  \n",
       "90          2018      162  Biographical  \n",
       "91          2018      160        Action  \n",
       "92          2018      125        Comedy  "
      ]
     },
     "execution_count": 27,
     "metadata": {},
     "output_type": "execute_result"
    }
   ],
   "source": [
    "Jun"
   ]
  },
  {
   "cell_type": "code",
   "execution_count": 28,
   "metadata": {},
   "outputs": [
    {
     "data": {
      "text/plain": [
       "<matplotlib.axes._subplots.AxesSubplot at 0x20e2997dac0>"
      ]
     },
     "execution_count": 28,
     "metadata": {},
     "output_type": "execute_result"
    },
    {
     "data": {
      "image/png": "[encoded data removed]",
      "text/plain": [
       "<Figure size 1152x576 with 1 Axes>"
      ]
     },
     "metadata": {
      "needs_background": "light"
     },
     "output_type": "display_data"
    }
   ],
   "source": [
    "plt.figure(figsize=(16,8))\n",
    "sns.boxplot('Genre','movie_total',data=Jun)"
   ]
  },
  {
   "cell_type": "markdown",
   "metadata": {},
   "source": [
    "Drama genre's movie have proved to earn good in the month of june."
   ]
  },
  {
   "cell_type": "code",
   "execution_count": 29,
   "metadata": {},
   "outputs": [
    {
     "name": "stderr",
     "output_type": "stream",
     "text": [
      "c:\\python\\lib\\site-packages\\pandas\\core\\series.py:679: RuntimeWarning: divide by zero encountered in log\n",
      "  result = getattr(ufunc, method)(*inputs, **kwargs)\n"
     ]
    },
    {
     "data": {
      "text/plain": [
       "<matplotlib.axes._subplots.AxesSubplot at 0x20e29781670>"
      ]
     },
     "execution_count": 29,
     "metadata": {},
     "output_type": "execute_result"
    },
    {
     "data": {
      "image/png": "[encoded data removed]",
      "text/plain": [
       "<Figure size 432x288 with 1 Axes>"
      ]
     },
     "metadata": {
      "needs_background": "light"
     },
     "output_type": "display_data"
    }
   ],
   "source": [
    "y=np.log(df['movie_total'])\n",
    "sns.regplot('runtime',y,data=df)"
   ]
  },
  {
   "cell_type": "markdown",
   "metadata": {},
   "source": [
    "A very very weak relationship between runtime and income.So you dont need to worry about the length of your film just keep it interseting. "
   ]
  },
  {
   "cell_type": "code",
   "execution_count": 30,
   "metadata": {},
   "outputs": [
    {
     "data": {
      "text/plain": [
       "Sep    15\n",
       "Jan    14\n",
       "Feb    14\n",
       "Nov    13\n",
       "Mar    12\n",
       "Oct    12\n",
       "Dec    12\n",
       "Aug    11\n",
       "May     9\n",
       "Jun     7\n",
       "Apr     6\n",
       "Jul     4\n",
       "Name: release_month, dtype: int64"
      ]
     },
     "execution_count": 30,
     "metadata": {},
     "output_type": "execute_result"
    }
   ],
   "source": [
    "df['release_month'].value_counts()"
   ]
  },
  {
   "cell_type": "code",
   "execution_count": 31,
   "metadata": {},
   "outputs": [
    {
     "data": {
      "text/plain": [
       "Anubhav Sinha      3\n",
       "Hansal Mehta       2\n",
       "Rohit Shetty       2\n",
       "Ali Abbas Zafar    2\n",
       "Amar Kaushik       2\n",
       "                  ..\n",
       "Abhay Chopra       1\n",
       "Om Raut            1\n",
       "Sunny Deol         1\n",
       "Abhijit Panse      1\n",
       "Shreyas Talpade    1\n",
       "Name: movie_director, Length: 115, dtype: int64"
      ]
     },
     "execution_count": 31,
     "metadata": {},
     "output_type": "execute_result"
    }
   ],
   "source": [
    "df['movie_director'].value_counts()"
   ]
  },
  {
   "cell_type": "code",
   "execution_count": 32,
   "metadata": {},
   "outputs": [],
   "source": [
    "AS=pd.DataFrame(df.loc[(df['movie_director']=='Anubhav Sinha')])"
   ]
  },
  {
   "cell_type": "code",
   "execution_count": 33,
   "metadata": {},
   "outputs": [
    {
     "data": {
      "text/html": [
       "<div>\n",
       "<style scoped>\n",
       "    .dataframe tbody tr th:only-of-type {\n",
       "        vertical-align: middle;\n",
       "    }\n",
       "\n",
       "    .dataframe tbody tr th {\n",
       "        vertical-align: top;\n",
       "    }\n",
       "\n",
       "    .dataframe thead th {\n",
       "        text-align: right;\n",
       "    }\n",
       "</style>\n",
       "<table border=\"1\" class=\"dataframe\">\n",
       "  <thead>\n",
       "    <tr style=\"text-align: right;\">\n",
       "      <th></th>\n",
       "      <th>movie_name</th>\n",
       "      <th>movie_opening</th>\n",
       "      <th>movie_weekend</th>\n",
       "      <th>movie_firstweek</th>\n",
       "      <th>movie_total</th>\n",
       "      <th>movie_total_worldwide</th>\n",
       "      <th>movie_director</th>\n",
       "      <th>release_month</th>\n",
       "      <th>release_year</th>\n",
       "      <th>runtime</th>\n",
       "      <th>Genre</th>\n",
       "    </tr>\n",
       "  </thead>\n",
       "  <tbody>\n",
       "    <tr>\n",
       "      <th>2</th>\n",
       "      <td>Thappad</td>\n",
       "      <td>3.07</td>\n",
       "      <td>14.66</td>\n",
       "      <td>22.79</td>\n",
       "      <td>30.61</td>\n",
       "      <td>44.50</td>\n",
       "      <td>Anubhav Sinha</td>\n",
       "      <td>Feb</td>\n",
       "      <td>2020</td>\n",
       "      <td>142</td>\n",
       "      <td>Drama</td>\n",
       "    </tr>\n",
       "    <tr>\n",
       "      <th>37</th>\n",
       "      <td>Article 15</td>\n",
       "      <td>5.02</td>\n",
       "      <td>20.04</td>\n",
       "      <td>34.21</td>\n",
       "      <td>63.05</td>\n",
       "      <td>90.15</td>\n",
       "      <td>Anubhav Sinha</td>\n",
       "      <td>Jun</td>\n",
       "      <td>2019</td>\n",
       "      <td>131</td>\n",
       "      <td>Crime</td>\n",
       "    </tr>\n",
       "    <tr>\n",
       "      <th>86</th>\n",
       "      <td>Mulk</td>\n",
       "      <td>1.68</td>\n",
       "      <td>8.16</td>\n",
       "      <td>12.81</td>\n",
       "      <td>17.51</td>\n",
       "      <td>26.28</td>\n",
       "      <td>Anubhav Sinha</td>\n",
       "      <td>Aug</td>\n",
       "      <td>2018</td>\n",
       "      <td>140</td>\n",
       "      <td>Drama</td>\n",
       "    </tr>\n",
       "  </tbody>\n",
       "</table>\n",
       "</div>"
      ],
      "text/plain": [
       "    movie_name  movie_opening  movie_weekend  movie_firstweek  movie_total  \\\n",
       "2      Thappad           3.07          14.66            22.79        30.61   \n",
       "37  Article 15           5.02          20.04            34.21        63.05   \n",
       "86        Mulk           1.68           8.16            12.81        17.51   \n",
       "\n",
       "    movie_total_worldwide movie_director release_month  release_year  runtime  \\\n",
       "2                   44.50  Anubhav Sinha           Feb          2020      142   \n",
       "37                  90.15  Anubhav Sinha           Jun          2019      131   \n",
       "86                  26.28  Anubhav Sinha           Aug          2018      140   \n",
       "\n",
       "    Genre  \n",
       "2   Drama  \n",
       "37  Crime  \n",
       "86  Drama  "
      ]
     },
     "execution_count": 33,
     "metadata": {},
     "output_type": "execute_result"
    }
   ],
   "source": [
    "AS"
   ]
  },
  {
   "cell_type": "code",
   "execution_count": 34,
   "metadata": {},
   "outputs": [
    {
     "data": {
      "text/html": [
       "<div>\n",
       "<style scoped>\n",
       "    .dataframe tbody tr th:only-of-type {\n",
       "        vertical-align: middle;\n",
       "    }\n",
       "\n",
       "    .dataframe tbody tr th {\n",
       "        vertical-align: top;\n",
       "    }\n",
       "\n",
       "    .dataframe thead th {\n",
       "        text-align: right;\n",
       "    }\n",
       "</style>\n",
       "<table border=\"1\" class=\"dataframe\">\n",
       "  <thead>\n",
       "    <tr style=\"text-align: right;\">\n",
       "      <th></th>\n",
       "      <th>movie_name</th>\n",
       "      <th>movie_opening</th>\n",
       "      <th>movie_weekend</th>\n",
       "      <th>movie_firstweek</th>\n",
       "      <th>movie_total</th>\n",
       "      <th>movie_total_worldwide</th>\n",
       "      <th>movie_director</th>\n",
       "      <th>release_month</th>\n",
       "      <th>release_year</th>\n",
       "      <th>runtime</th>\n",
       "      <th>Genre</th>\n",
       "    </tr>\n",
       "  </thead>\n",
       "  <tbody>\n",
       "    <tr>\n",
       "      <th>90</th>\n",
       "      <td>Sanju</td>\n",
       "      <td>34.75</td>\n",
       "      <td>120.06</td>\n",
       "      <td>202.51</td>\n",
       "      <td>341.22</td>\n",
       "      <td>579.0</td>\n",
       "      <td>Rajkumar Hirani</td>\n",
       "      <td>Jun</td>\n",
       "      <td>2018</td>\n",
       "      <td>162</td>\n",
       "      <td>Biographical</td>\n",
       "    </tr>\n",
       "  </tbody>\n",
       "</table>\n",
       "</div>"
      ],
      "text/plain": [
       "   movie_name  movie_opening  movie_weekend  movie_firstweek  movie_total  \\\n",
       "90      Sanju          34.75         120.06           202.51       341.22   \n",
       "\n",
       "    movie_total_worldwide   movie_director release_month  release_year  \\\n",
       "90                  579.0  Rajkumar Hirani           Jun          2018   \n",
       "\n",
       "    runtime         Genre  \n",
       "90      162  Biographical  "
      ]
     },
     "execution_count": 34,
     "metadata": {},
     "output_type": "execute_result"
    }
   ],
   "source": [
    "df.loc[(df['movie_total']==df['movie_total'].max())]"
   ]
  },
  {
   "cell_type": "code",
   "execution_count": 35,
   "metadata": {},
   "outputs": [
    {
     "data": {
      "text/html": [
       "<div>\n",
       "<style scoped>\n",
       "    .dataframe tbody tr th:only-of-type {\n",
       "        vertical-align: middle;\n",
       "    }\n",
       "\n",
       "    .dataframe tbody tr th {\n",
       "        vertical-align: top;\n",
       "    }\n",
       "\n",
       "    .dataframe thead th {\n",
       "        text-align: right;\n",
       "    }\n",
       "</style>\n",
       "<table border=\"1\" class=\"dataframe\">\n",
       "  <thead>\n",
       "    <tr style=\"text-align: right;\">\n",
       "      <th></th>\n",
       "      <th>movie_name</th>\n",
       "      <th>movie_opening</th>\n",
       "      <th>movie_weekend</th>\n",
       "      <th>movie_firstweek</th>\n",
       "      <th>movie_total</th>\n",
       "      <th>movie_total_worldwide</th>\n",
       "      <th>movie_director</th>\n",
       "      <th>release_month</th>\n",
       "      <th>release_year</th>\n",
       "      <th>runtime</th>\n",
       "      <th>Genre</th>\n",
       "    </tr>\n",
       "  </thead>\n",
       "  <tbody>\n",
       "    <tr>\n",
       "      <th>105</th>\n",
       "      <td>Welcome To New York</td>\n",
       "      <td>1.0</td>\n",
       "      <td>3.0</td>\n",
       "      <td>3.0</td>\n",
       "      <td>0.0</td>\n",
       "      <td>4.0</td>\n",
       "      <td>Chakri Toleti</td>\n",
       "      <td>Feb</td>\n",
       "      <td>2018</td>\n",
       "      <td>124</td>\n",
       "      <td>Comedy</td>\n",
       "    </tr>\n",
       "  </tbody>\n",
       "</table>\n",
       "</div>"
      ],
      "text/plain": [
       "              movie_name  movie_opening  movie_weekend  movie_firstweek  \\\n",
       "105  Welcome To New York            1.0            3.0              3.0   \n",
       "\n",
       "     movie_total  movie_total_worldwide movie_director release_month  \\\n",
       "105          0.0                    4.0  Chakri Toleti           Feb   \n",
       "\n",
       "     release_year  runtime   Genre  \n",
       "105          2018      124  Comedy  "
      ]
     },
     "execution_count": 35,
     "metadata": {},
     "output_type": "execute_result"
    }
   ],
   "source": [
    "df.loc[(df['movie_total']==df['movie_total'].min())]"
   ]
  },
  {
   "cell_type": "code",
   "execution_count": 36,
   "metadata": {},
   "outputs": [
    {
     "data": {
      "text/html": [
       "<div>\n",
       "<style scoped>\n",
       "    .dataframe tbody tr th:only-of-type {\n",
       "        vertical-align: middle;\n",
       "    }\n",
       "\n",
       "    .dataframe tbody tr th {\n",
       "        vertical-align: top;\n",
       "    }\n",
       "\n",
       "    .dataframe thead th {\n",
       "        text-align: right;\n",
       "    }\n",
       "</style>\n",
       "<table border=\"1\" class=\"dataframe\">\n",
       "  <thead>\n",
       "    <tr style=\"text-align: right;\">\n",
       "      <th></th>\n",
       "      <th>movie_name</th>\n",
       "      <th>movie_opening</th>\n",
       "      <th>movie_weekend</th>\n",
       "      <th>movie_firstweek</th>\n",
       "      <th>movie_total</th>\n",
       "      <th>movie_total_worldwide</th>\n",
       "      <th>movie_director</th>\n",
       "      <th>release_month</th>\n",
       "      <th>release_year</th>\n",
       "      <th>runtime</th>\n",
       "      <th>Genre</th>\n",
       "    </tr>\n",
       "  </thead>\n",
       "  <tbody>\n",
       "    <tr>\n",
       "      <th>0</th>\n",
       "      <td>Angrezi Medium</td>\n",
       "      <td>4.03</td>\n",
       "      <td>9.03</td>\n",
       "      <td>9.36</td>\n",
       "      <td>9.36</td>\n",
       "      <td>13.50</td>\n",
       "      <td>Homi Adajania</td>\n",
       "      <td>Mar</td>\n",
       "      <td>2020</td>\n",
       "      <td>145</td>\n",
       "      <td>Drama</td>\n",
       "    </tr>\n",
       "    <tr>\n",
       "      <th>1</th>\n",
       "      <td>Baaghi 3</td>\n",
       "      <td>17.50</td>\n",
       "      <td>53.83</td>\n",
       "      <td>90.67</td>\n",
       "      <td>93.37</td>\n",
       "      <td>137.00</td>\n",
       "      <td>Ahmed Khan</td>\n",
       "      <td>Mar</td>\n",
       "      <td>2020</td>\n",
       "      <td>147</td>\n",
       "      <td>Action</td>\n",
       "    </tr>\n",
       "    <tr>\n",
       "      <th>2</th>\n",
       "      <td>Thappad</td>\n",
       "      <td>3.07</td>\n",
       "      <td>14.66</td>\n",
       "      <td>22.79</td>\n",
       "      <td>30.61</td>\n",
       "      <td>44.50</td>\n",
       "      <td>Anubhav Sinha</td>\n",
       "      <td>Feb</td>\n",
       "      <td>2020</td>\n",
       "      <td>142</td>\n",
       "      <td>Drama</td>\n",
       "    </tr>\n",
       "    <tr>\n",
       "      <th>3</th>\n",
       "      <td>Shubh Mangal Zyada Saavdhan</td>\n",
       "      <td>9.55</td>\n",
       "      <td>32.66</td>\n",
       "      <td>44.84</td>\n",
       "      <td>62.78</td>\n",
       "      <td>86.39</td>\n",
       "      <td>Hitesh Kewalya</td>\n",
       "      <td>Feb</td>\n",
       "      <td>2020</td>\n",
       "      <td>120</td>\n",
       "      <td>Comedy</td>\n",
       "    </tr>\n",
       "    <tr>\n",
       "      <th>4</th>\n",
       "      <td>Bhoot: Part One - The Haunted Ship</td>\n",
       "      <td>5.10</td>\n",
       "      <td>16.36</td>\n",
       "      <td>24.18</td>\n",
       "      <td>31.97</td>\n",
       "      <td>40.94</td>\n",
       "      <td>Bhanu Pratap Singh</td>\n",
       "      <td>Feb</td>\n",
       "      <td>2020</td>\n",
       "      <td>117</td>\n",
       "      <td>Horror</td>\n",
       "    </tr>\n",
       "  </tbody>\n",
       "</table>\n",
       "</div>"
      ],
      "text/plain": [
       "                           movie_name  movie_opening  movie_weekend  \\\n",
       "0                      Angrezi Medium           4.03           9.03   \n",
       "1                            Baaghi 3          17.50          53.83   \n",
       "2                             Thappad           3.07          14.66   \n",
       "3         Shubh Mangal Zyada Saavdhan           9.55          32.66   \n",
       "4  Bhoot: Part One - The Haunted Ship           5.10          16.36   \n",
       "\n",
       "   movie_firstweek  movie_total  movie_total_worldwide      movie_director  \\\n",
       "0             9.36         9.36                  13.50       Homi Adajania   \n",
       "1            90.67        93.37                 137.00          Ahmed Khan   \n",
       "2            22.79        30.61                  44.50       Anubhav Sinha   \n",
       "3            44.84        62.78                  86.39      Hitesh Kewalya   \n",
       "4            24.18        31.97                  40.94  Bhanu Pratap Singh   \n",
       "\n",
       "  release_month  release_year  runtime   Genre  \n",
       "0           Mar          2020      145   Drama  \n",
       "1           Mar          2020      147  Action  \n",
       "2           Feb          2020      142   Drama  \n",
       "3           Feb          2020      120  Comedy  \n",
       "4           Feb          2020      117  Horror  "
      ]
     },
     "execution_count": 36,
     "metadata": {},
     "output_type": "execute_result"
    }
   ],
   "source": [
    "df.head()"
   ]
  },
  {
   "cell_type": "code",
   "execution_count": 43,
   "metadata": {},
   "outputs": [
    {
     "data": {
      "text/plain": [
       "<matplotlib.axes._subplots.AxesSubplot at 0x20e29f94940>"
      ]
     },
     "execution_count": 43,
     "metadata": {},
     "output_type": "execute_result"
    },
    {
     "data": {
      "image/png": "[encoded data removed]",
      "text/plain": [
       "<Figure size 432x288 with 1 Axes>"
      ]
     },
     "metadata": {
      "needs_background": "light"
     },
     "output_type": "display_data"
    }
   ],
   "source": [
    "sns.scatterplot('release_year','movie_total',data=df)\n",
    "sns.scatterplot('release_year','movie_total_worldwide',data=df)"
   ]
  },
  {
   "cell_type": "code",
   "execution_count": 46,
   "metadata": {},
   "outputs": [
    {
     "data": {
      "text/plain": [
       "<matplotlib.axes._subplots.AxesSubplot at 0x20e2b584430>"
      ]
     },
     "execution_count": 46,
     "metadata": {},
     "output_type": "execute_result"
    },
    {
     "data": {
      "image/png": "[encoded data removed]",
      "text/plain": [
       "<Figure size 1080x504 with 1 Axes>"
      ]
     },
     "metadata": {
      "needs_background": "light"
     },
     "output_type": "display_data"
    }
   ],
   "source": [
    "plt.figure(figsize=(15,7))\n",
    "sns.boxplot('Genre','movie_total',data=df,hue='release_year')\n"
   ]
  },
  {
   "cell_type": "markdown",
   "metadata": {},
   "source": [
    "Want to release an action movie in December..?"
   ]
  },
  {
   "cell_type": "code",
   "execution_count": 51,
   "metadata": {},
   "outputs": [
    {
     "data": {
      "text/plain": [
       "192.3025"
      ]
     },
     "execution_count": 51,
     "metadata": {},
     "output_type": "execute_result"
    }
   ],
   "source": [
    "df.loc[(df['Genre']=='Action') & (df['release_month']=='Dec')]['movie_total'].mean()"
   ]
  },
  {
   "cell_type": "markdown",
   "metadata": {},
   "source": [
    "You can some good amount of money that way.Go for it  !!!"
   ]
  },
  {
   "cell_type": "code",
   "execution_count": null,
   "metadata": {},
   "outputs": [],
   "source": []
  }
 ],
 "metadata": {
  "kernelspec": {
   "display_name": "Python 3",
   "language": "python",
   "name": "python3"
  },
  "language_info": {
   "codemirror_mode": {
    "name": "ipython",
    "version": 3
   },
   "file_extension": ".py",
   "mimetype": "text/x-python",
   "name": "python",
   "nbconvert_exporter": "python",
   "pygments_lexer": "ipython3",
   "version": "3.8.2"
  }
 },
 "nbformat": 4,
 "nbformat_minor": 4
}
