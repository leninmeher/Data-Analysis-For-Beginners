{
 "cells": [
  {
   "cell_type": "markdown",
   "metadata": {},
   "source": [
    "# Analysis of Iris Dataset\n"
   ]
  },
  {
   "cell_type": "code",
   "execution_count": 1,
   "metadata": {},
   "outputs": [],
   "source": [
    "import pandas as pd\n",
    "import numpy as np\n",
    "import seaborn as sns\n",
    "import matplotlib.pyplot as plt"
   ]
  },
  {
   "cell_type": "code",
   "execution_count": 2,
   "metadata": {},
   "outputs": [],
   "source": [
    "df=pd.read_csv('iris.csv')"
   ]
  },
  {
   "cell_type": "code",
   "execution_count": 3,
   "metadata": {},
   "outputs": [
    {
     "data": {
      "text/html": [
       "<div>\n",
       "<style scoped>\n",
       "    .dataframe tbody tr th:only-of-type {\n",
       "        vertical-align: middle;\n",
       "    }\n",
       "\n",
       "    .dataframe tbody tr th {\n",
       "        vertical-align: top;\n",
       "    }\n",
       "\n",
       "    .dataframe thead th {\n",
       "        text-align: right;\n",
       "    }\n",
       "</style>\n",
       "<table border=\"1\" class=\"dataframe\">\n",
       "  <thead>\n",
       "    <tr style=\"text-align: right;\">\n",
       "      <th></th>\n",
       "      <th>Id</th>\n",
       "      <th>SepalLengthCm</th>\n",
       "      <th>SepalWidthCm</th>\n",
       "      <th>PetalLengthCm</th>\n",
       "      <th>PetalWidthCm</th>\n",
       "      <th>Species</th>\n",
       "    </tr>\n",
       "  </thead>\n",
       "  <tbody>\n",
       "    <tr>\n",
       "      <th>0</th>\n",
       "      <td>1</td>\n",
       "      <td>5.1</td>\n",
       "      <td>3.5</td>\n",
       "      <td>1.4</td>\n",
       "      <td>0.2</td>\n",
       "      <td>Iris-setosa</td>\n",
       "    </tr>\n",
       "    <tr>\n",
       "      <th>1</th>\n",
       "      <td>2</td>\n",
       "      <td>4.9</td>\n",
       "      <td>3.0</td>\n",
       "      <td>1.4</td>\n",
       "      <td>0.2</td>\n",
       "      <td>Iris-setosa</td>\n",
       "    </tr>\n",
       "    <tr>\n",
       "      <th>2</th>\n",
       "      <td>3</td>\n",
       "      <td>4.7</td>\n",
       "      <td>3.2</td>\n",
       "      <td>1.3</td>\n",
       "      <td>0.2</td>\n",
       "      <td>Iris-setosa</td>\n",
       "    </tr>\n",
       "    <tr>\n",
       "      <th>3</th>\n",
       "      <td>4</td>\n",
       "      <td>4.6</td>\n",
       "      <td>3.1</td>\n",
       "      <td>1.5</td>\n",
       "      <td>0.2</td>\n",
       "      <td>Iris-setosa</td>\n",
       "    </tr>\n",
       "    <tr>\n",
       "      <th>4</th>\n",
       "      <td>5</td>\n",
       "      <td>5.0</td>\n",
       "      <td>3.6</td>\n",
       "      <td>1.4</td>\n",
       "      <td>0.2</td>\n",
       "      <td>Iris-setosa</td>\n",
       "    </tr>\n",
       "  </tbody>\n",
       "</table>\n",
       "</div>"
      ],
      "text/plain": [
       "   Id  SepalLengthCm  SepalWidthCm  PetalLengthCm  PetalWidthCm      Species\n",
       "0   1            5.1           3.5            1.4           0.2  Iris-setosa\n",
       "1   2            4.9           3.0            1.4           0.2  Iris-setosa\n",
       "2   3            4.7           3.2            1.3           0.2  Iris-setosa\n",
       "3   4            4.6           3.1            1.5           0.2  Iris-setosa\n",
       "4   5            5.0           3.6            1.4           0.2  Iris-setosa"
      ]
     },
     "execution_count": 3,
     "metadata": {},
     "output_type": "execute_result"
    }
   ],
   "source": [
    "df.head()"
   ]
  },
  {
   "cell_type": "code",
   "execution_count": 4,
   "metadata": {},
   "outputs": [
    {
     "data": {
      "text/plain": [
       "Iris-versicolor    50\n",
       "Iris-virginica     50\n",
       "Iris-setosa        50\n",
       "Name: Species, dtype: int64"
      ]
     },
     "execution_count": 4,
     "metadata": {},
     "output_type": "execute_result"
    }
   ],
   "source": [
    "df['Species'].value_counts()"
   ]
  },
  {
   "cell_type": "markdown",
   "metadata": {},
   "source": [
    "# For setosa species"
   ]
  },
  {
   "cell_type": "code",
   "execution_count": 5,
   "metadata": {},
   "outputs": [],
   "source": [
    "setosa=pd.DataFrame(df[(df['Species']=='Iris-setosa')])"
   ]
  },
  {
   "cell_type": "code",
   "execution_count": 6,
   "metadata": {},
   "outputs": [
    {
     "data": {
      "text/html": [
       "<div>\n",
       "<style scoped>\n",
       "    .dataframe tbody tr th:only-of-type {\n",
       "        vertical-align: middle;\n",
       "    }\n",
       "\n",
       "    .dataframe tbody tr th {\n",
       "        vertical-align: top;\n",
       "    }\n",
       "\n",
       "    .dataframe thead th {\n",
       "        text-align: right;\n",
       "    }\n",
       "</style>\n",
       "<table border=\"1\" class=\"dataframe\">\n",
       "  <thead>\n",
       "    <tr style=\"text-align: right;\">\n",
       "      <th></th>\n",
       "      <th>Id</th>\n",
       "      <th>SepalLengthCm</th>\n",
       "      <th>SepalWidthCm</th>\n",
       "      <th>PetalLengthCm</th>\n",
       "      <th>PetalWidthCm</th>\n",
       "      <th>Species</th>\n",
       "    </tr>\n",
       "  </thead>\n",
       "  <tbody>\n",
       "    <tr>\n",
       "      <th>0</th>\n",
       "      <td>1</td>\n",
       "      <td>5.1</td>\n",
       "      <td>3.5</td>\n",
       "      <td>1.4</td>\n",
       "      <td>0.2</td>\n",
       "      <td>Iris-setosa</td>\n",
       "    </tr>\n",
       "    <tr>\n",
       "      <th>1</th>\n",
       "      <td>2</td>\n",
       "      <td>4.9</td>\n",
       "      <td>3.0</td>\n",
       "      <td>1.4</td>\n",
       "      <td>0.2</td>\n",
       "      <td>Iris-setosa</td>\n",
       "    </tr>\n",
       "    <tr>\n",
       "      <th>2</th>\n",
       "      <td>3</td>\n",
       "      <td>4.7</td>\n",
       "      <td>3.2</td>\n",
       "      <td>1.3</td>\n",
       "      <td>0.2</td>\n",
       "      <td>Iris-setosa</td>\n",
       "    </tr>\n",
       "    <tr>\n",
       "      <th>3</th>\n",
       "      <td>4</td>\n",
       "      <td>4.6</td>\n",
       "      <td>3.1</td>\n",
       "      <td>1.5</td>\n",
       "      <td>0.2</td>\n",
       "      <td>Iris-setosa</td>\n",
       "    </tr>\n",
       "    <tr>\n",
       "      <th>4</th>\n",
       "      <td>5</td>\n",
       "      <td>5.0</td>\n",
       "      <td>3.6</td>\n",
       "      <td>1.4</td>\n",
       "      <td>0.2</td>\n",
       "      <td>Iris-setosa</td>\n",
       "    </tr>\n",
       "  </tbody>\n",
       "</table>\n",
       "</div>"
      ],
      "text/plain": [
       "   Id  SepalLengthCm  SepalWidthCm  PetalLengthCm  PetalWidthCm      Species\n",
       "0   1            5.1           3.5            1.4           0.2  Iris-setosa\n",
       "1   2            4.9           3.0            1.4           0.2  Iris-setosa\n",
       "2   3            4.7           3.2            1.3           0.2  Iris-setosa\n",
       "3   4            4.6           3.1            1.5           0.2  Iris-setosa\n",
       "4   5            5.0           3.6            1.4           0.2  Iris-setosa"
      ]
     },
     "execution_count": 6,
     "metadata": {},
     "output_type": "execute_result"
    }
   ],
   "source": [
    "setosa.head()"
   ]
  },
  {
   "cell_type": "code",
   "execution_count": 7,
   "metadata": {},
   "outputs": [
    {
     "data": {
      "text/html": [
       "<div>\n",
       "<style scoped>\n",
       "    .dataframe tbody tr th:only-of-type {\n",
       "        vertical-align: middle;\n",
       "    }\n",
       "\n",
       "    .dataframe tbody tr th {\n",
       "        vertical-align: top;\n",
       "    }\n",
       "\n",
       "    .dataframe thead th {\n",
       "        text-align: right;\n",
       "    }\n",
       "</style>\n",
       "<table border=\"1\" class=\"dataframe\">\n",
       "  <thead>\n",
       "    <tr style=\"text-align: right;\">\n",
       "      <th></th>\n",
       "      <th>Id</th>\n",
       "      <th>SepalLengthCm</th>\n",
       "      <th>SepalWidthCm</th>\n",
       "      <th>PetalLengthCm</th>\n",
       "      <th>PetalWidthCm</th>\n",
       "    </tr>\n",
       "  </thead>\n",
       "  <tbody>\n",
       "    <tr>\n",
       "      <th>count</th>\n",
       "      <td>50.00000</td>\n",
       "      <td>50.00000</td>\n",
       "      <td>50.000000</td>\n",
       "      <td>50.000000</td>\n",
       "      <td>50.00000</td>\n",
       "    </tr>\n",
       "    <tr>\n",
       "      <th>mean</th>\n",
       "      <td>25.50000</td>\n",
       "      <td>5.00600</td>\n",
       "      <td>3.418000</td>\n",
       "      <td>1.464000</td>\n",
       "      <td>0.24400</td>\n",
       "    </tr>\n",
       "    <tr>\n",
       "      <th>std</th>\n",
       "      <td>14.57738</td>\n",
       "      <td>0.35249</td>\n",
       "      <td>0.381024</td>\n",
       "      <td>0.173511</td>\n",
       "      <td>0.10721</td>\n",
       "    </tr>\n",
       "    <tr>\n",
       "      <th>min</th>\n",
       "      <td>1.00000</td>\n",
       "      <td>4.30000</td>\n",
       "      <td>2.300000</td>\n",
       "      <td>1.000000</td>\n",
       "      <td>0.10000</td>\n",
       "    </tr>\n",
       "    <tr>\n",
       "      <th>25%</th>\n",
       "      <td>13.25000</td>\n",
       "      <td>4.80000</td>\n",
       "      <td>3.125000</td>\n",
       "      <td>1.400000</td>\n",
       "      <td>0.20000</td>\n",
       "    </tr>\n",
       "    <tr>\n",
       "      <th>50%</th>\n",
       "      <td>25.50000</td>\n",
       "      <td>5.00000</td>\n",
       "      <td>3.400000</td>\n",
       "      <td>1.500000</td>\n",
       "      <td>0.20000</td>\n",
       "    </tr>\n",
       "    <tr>\n",
       "      <th>75%</th>\n",
       "      <td>37.75000</td>\n",
       "      <td>5.20000</td>\n",
       "      <td>3.675000</td>\n",
       "      <td>1.575000</td>\n",
       "      <td>0.30000</td>\n",
       "    </tr>\n",
       "    <tr>\n",
       "      <th>max</th>\n",
       "      <td>50.00000</td>\n",
       "      <td>5.80000</td>\n",
       "      <td>4.400000</td>\n",
       "      <td>1.900000</td>\n",
       "      <td>0.60000</td>\n",
       "    </tr>\n",
       "  </tbody>\n",
       "</table>\n",
       "</div>"
      ],
      "text/plain": [
       "             Id  SepalLengthCm  SepalWidthCm  PetalLengthCm  PetalWidthCm\n",
       "count  50.00000       50.00000     50.000000      50.000000      50.00000\n",
       "mean   25.50000        5.00600      3.418000       1.464000       0.24400\n",
       "std    14.57738        0.35249      0.381024       0.173511       0.10721\n",
       "min     1.00000        4.30000      2.300000       1.000000       0.10000\n",
       "25%    13.25000        4.80000      3.125000       1.400000       0.20000\n",
       "50%    25.50000        5.00000      3.400000       1.500000       0.20000\n",
       "75%    37.75000        5.20000      3.675000       1.575000       0.30000\n",
       "max    50.00000        5.80000      4.400000       1.900000       0.60000"
      ]
     },
     "execution_count": 7,
     "metadata": {},
     "output_type": "execute_result"
    }
   ],
   "source": [
    "setosa.describe()"
   ]
  },
  {
   "cell_type": "code",
   "execution_count": 8,
   "metadata": {},
   "outputs": [
    {
     "data": {
      "text/plain": [
       "Id               50\n",
       "SepalLengthCm    50\n",
       "SepalWidthCm     50\n",
       "PetalLengthCm    50\n",
       "PetalWidthCm     50\n",
       "Species          50\n",
       "dtype: int64"
      ]
     },
     "execution_count": 8,
     "metadata": {},
     "output_type": "execute_result"
    }
   ],
   "source": [
    "setosa.isnull().count()"
   ]
  },
  {
   "cell_type": "code",
   "execution_count": 9,
   "metadata": {},
   "outputs": [
    {
     "data": {
      "text/plain": [
       "<seaborn.axisgrid.FacetGrid at 0x26462a106d0>"
      ]
     },
     "execution_count": 9,
     "metadata": {},
     "output_type": "execute_result"
    },
    {
     "data": {
      "image/png": "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\n",
      "text/plain": [
       "<Figure size 360x360 with 1 Axes>"
      ]
     },
     "metadata": {
      "needs_background": "light"
     },
     "output_type": "display_data"
    }
   ],
   "source": [
    "sns.relplot('SepalLengthCm','SepalWidthCm',data=setosa,kind='scatter',ci=False)"
   ]
  },
  {
   "cell_type": "code",
   "execution_count": 10,
   "metadata": {},
   "outputs": [],
   "source": [
    "setosa.drop(setosa[setosa['SepalWidthCm']<2.5].index,axis=0,inplace=True) #removing an outlier"
   ]
  },
  {
   "cell_type": "code",
   "execution_count": 11,
   "metadata": {},
   "outputs": [
    {
     "data": {
      "text/html": [
       "<div>\n",
       "<style scoped>\n",
       "    .dataframe tbody tr th:only-of-type {\n",
       "        vertical-align: middle;\n",
       "    }\n",
       "\n",
       "    .dataframe tbody tr th {\n",
       "        vertical-align: top;\n",
       "    }\n",
       "\n",
       "    .dataframe thead th {\n",
       "        text-align: right;\n",
       "    }\n",
       "</style>\n",
       "<table border=\"1\" class=\"dataframe\">\n",
       "  <thead>\n",
       "    <tr style=\"text-align: right;\">\n",
       "      <th></th>\n",
       "      <th>Id</th>\n",
       "      <th>SepalLengthCm</th>\n",
       "      <th>SepalWidthCm</th>\n",
       "      <th>PetalLengthCm</th>\n",
       "      <th>PetalWidthCm</th>\n",
       "    </tr>\n",
       "  </thead>\n",
       "  <tbody>\n",
       "    <tr>\n",
       "      <th>count</th>\n",
       "      <td>49.000000</td>\n",
       "      <td>49.000000</td>\n",
       "      <td>49.000000</td>\n",
       "      <td>49.000000</td>\n",
       "      <td>49.000000</td>\n",
       "    </tr>\n",
       "    <tr>\n",
       "      <th>mean</th>\n",
       "      <td>25.163265</td>\n",
       "      <td>5.016327</td>\n",
       "      <td>3.440816</td>\n",
       "      <td>1.467347</td>\n",
       "      <td>0.242857</td>\n",
       "    </tr>\n",
       "    <tr>\n",
       "      <th>std</th>\n",
       "      <td>14.530639</td>\n",
       "      <td>0.348417</td>\n",
       "      <td>0.348759</td>\n",
       "      <td>0.173671</td>\n",
       "      <td>0.108012</td>\n",
       "    </tr>\n",
       "    <tr>\n",
       "      <th>min</th>\n",
       "      <td>1.000000</td>\n",
       "      <td>4.300000</td>\n",
       "      <td>2.900000</td>\n",
       "      <td>1.000000</td>\n",
       "      <td>0.100000</td>\n",
       "    </tr>\n",
       "    <tr>\n",
       "      <th>25%</th>\n",
       "      <td>13.000000</td>\n",
       "      <td>4.800000</td>\n",
       "      <td>3.200000</td>\n",
       "      <td>1.400000</td>\n",
       "      <td>0.200000</td>\n",
       "    </tr>\n",
       "    <tr>\n",
       "      <th>50%</th>\n",
       "      <td>25.000000</td>\n",
       "      <td>5.000000</td>\n",
       "      <td>3.400000</td>\n",
       "      <td>1.500000</td>\n",
       "      <td>0.200000</td>\n",
       "    </tr>\n",
       "    <tr>\n",
       "      <th>75%</th>\n",
       "      <td>37.000000</td>\n",
       "      <td>5.200000</td>\n",
       "      <td>3.700000</td>\n",
       "      <td>1.600000</td>\n",
       "      <td>0.300000</td>\n",
       "    </tr>\n",
       "    <tr>\n",
       "      <th>max</th>\n",
       "      <td>50.000000</td>\n",
       "      <td>5.800000</td>\n",
       "      <td>4.400000</td>\n",
       "      <td>1.900000</td>\n",
       "      <td>0.600000</td>\n",
       "    </tr>\n",
       "  </tbody>\n",
       "</table>\n",
       "</div>"
      ],
      "text/plain": [
       "              Id  SepalLengthCm  SepalWidthCm  PetalLengthCm  PetalWidthCm\n",
       "count  49.000000      49.000000     49.000000      49.000000     49.000000\n",
       "mean   25.163265       5.016327      3.440816       1.467347      0.242857\n",
       "std    14.530639       0.348417      0.348759       0.173671      0.108012\n",
       "min     1.000000       4.300000      2.900000       1.000000      0.100000\n",
       "25%    13.000000       4.800000      3.200000       1.400000      0.200000\n",
       "50%    25.000000       5.000000      3.400000       1.500000      0.200000\n",
       "75%    37.000000       5.200000      3.700000       1.600000      0.300000\n",
       "max    50.000000       5.800000      4.400000       1.900000      0.600000"
      ]
     },
     "execution_count": 11,
     "metadata": {},
     "output_type": "execute_result"
    }
   ],
   "source": [
    "setosa.describe()"
   ]
  },
  {
   "cell_type": "code",
   "execution_count": 12,
   "metadata": {},
   "outputs": [
    {
     "data": {
      "text/plain": [
       "<seaborn.axisgrid.FacetGrid at 0x26465ac9c40>"
      ]
     },
     "execution_count": 12,
     "metadata": {},
     "output_type": "execute_result"
    },
    {
     "data": {
      "image/png": "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\n",
      "text/plain": [
       "<Figure size 360x360 with 1 Axes>"
      ]
     },
     "metadata": {
      "needs_background": "light"
     },
     "output_type": "display_data"
    }
   ],
   "source": [
    "sns.relplot('SepalLengthCm','SepalWidthCm',data=setosa,kind='scatter',ci=False)"
   ]
  },
  {
   "cell_type": "markdown",
   "metadata": {},
   "source": [
    "A strong positive linear relation between the sepal length and width of setosa species."
   ]
  },
  {
   "cell_type": "code",
   "execution_count": 13,
   "metadata": {},
   "outputs": [
    {
     "data": {
      "text/html": [
       "<div>\n",
       "<style scoped>\n",
       "    .dataframe tbody tr th:only-of-type {\n",
       "        vertical-align: middle;\n",
       "    }\n",
       "\n",
       "    .dataframe tbody tr th {\n",
       "        vertical-align: top;\n",
       "    }\n",
       "\n",
       "    .dataframe thead th {\n",
       "        text-align: right;\n",
       "    }\n",
       "</style>\n",
       "<table border=\"1\" class=\"dataframe\">\n",
       "  <thead>\n",
       "    <tr style=\"text-align: right;\">\n",
       "      <th></th>\n",
       "      <th>Id</th>\n",
       "      <th>SepalLengthCm</th>\n",
       "      <th>SepalWidthCm</th>\n",
       "      <th>PetalLengthCm</th>\n",
       "      <th>PetalWidthCm</th>\n",
       "    </tr>\n",
       "  </thead>\n",
       "  <tbody>\n",
       "    <tr>\n",
       "      <th>Id</th>\n",
       "      <td>1.000000</td>\n",
       "      <td>0.000286</td>\n",
       "      <td>0.002769</td>\n",
       "      <td>0.077282</td>\n",
       "      <td>0.076420</td>\n",
       "    </tr>\n",
       "    <tr>\n",
       "      <th>SepalLengthCm</th>\n",
       "      <td>0.000286</td>\n",
       "      <td>1.000000</td>\n",
       "      <td>0.743632</td>\n",
       "      <td>0.243115</td>\n",
       "      <td>0.302100</td>\n",
       "    </tr>\n",
       "    <tr>\n",
       "      <th>SepalWidthCm</th>\n",
       "      <td>0.002769</td>\n",
       "      <td>0.743632</td>\n",
       "      <td>1.000000</td>\n",
       "      <td>0.132530</td>\n",
       "      <td>0.345258</td>\n",
       "    </tr>\n",
       "    <tr>\n",
       "      <th>PetalLengthCm</th>\n",
       "      <td>0.077282</td>\n",
       "      <td>0.243115</td>\n",
       "      <td>0.132530</td>\n",
       "      <td>1.000000</td>\n",
       "      <td>0.320488</td>\n",
       "    </tr>\n",
       "    <tr>\n",
       "      <th>PetalWidthCm</th>\n",
       "      <td>0.076420</td>\n",
       "      <td>0.302100</td>\n",
       "      <td>0.345258</td>\n",
       "      <td>0.320488</td>\n",
       "      <td>1.000000</td>\n",
       "    </tr>\n",
       "  </tbody>\n",
       "</table>\n",
       "</div>"
      ],
      "text/plain": [
       "                     Id  SepalLengthCm  SepalWidthCm  PetalLengthCm  \\\n",
       "Id             1.000000       0.000286      0.002769       0.077282   \n",
       "SepalLengthCm  0.000286       1.000000      0.743632       0.243115   \n",
       "SepalWidthCm   0.002769       0.743632      1.000000       0.132530   \n",
       "PetalLengthCm  0.077282       0.243115      0.132530       1.000000   \n",
       "PetalWidthCm   0.076420       0.302100      0.345258       0.320488   \n",
       "\n",
       "               PetalWidthCm  \n",
       "Id                 0.076420  \n",
       "SepalLengthCm      0.302100  \n",
       "SepalWidthCm       0.345258  \n",
       "PetalLengthCm      0.320488  \n",
       "PetalWidthCm       1.000000  "
      ]
     },
     "execution_count": 13,
     "metadata": {},
     "output_type": "execute_result"
    }
   ],
   "source": [
    "setosa.corr()"
   ]
  },
  {
   "cell_type": "code",
   "execution_count": 14,
   "metadata": {},
   "outputs": [
    {
     "data": {
      "text/plain": [
       "<matplotlib.axes._subplots.AxesSubplot at 0x26465b466d0>"
      ]
     },
     "execution_count": 14,
     "metadata": {},
     "output_type": "execute_result"
    },
    {
     "data": {
      "image/png": "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\n",
      "text/plain": [
       "<Figure size 432x288 with 2 Axes>"
      ]
     },
     "metadata": {
      "needs_background": "light"
     },
     "output_type": "display_data"
    }
   ],
   "source": [
    "sns.heatmap(setosa.corr())"
   ]
  },
  {
   "cell_type": "code",
   "execution_count": 15,
   "metadata": {},
   "outputs": [
    {
     "data": {
      "text/plain": [
       "<seaborn.axisgrid.FacetGrid at 0x26465bdaac0>"
      ]
     },
     "execution_count": 15,
     "metadata": {},
     "output_type": "execute_result"
    },
    {
     "data": {
      "image/png": "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\n",
      "text/plain": [
       "<Figure size 360x360 with 1 Axes>"
      ]
     },
     "metadata": {
      "needs_background": "light"
     },
     "output_type": "display_data"
    }
   ],
   "source": [
    "sns.relplot('PetalLengthCm','PetalWidthCm',data=setosa,kind='scatter',ci=False)"
   ]
  },
  {
   "cell_type": "markdown",
   "metadata": {},
   "source": [
    "No significant relation between petal length and width of setosa species"
   ]
  },
  {
   "cell_type": "markdown",
   "metadata": {},
   "source": [
    "# For Virginica Species\n"
   ]
  },
  {
   "cell_type": "code",
   "execution_count": 16,
   "metadata": {},
   "outputs": [],
   "source": [
    "virginica=pd.DataFrame(df[(df['Species']=='Iris-virginica')])"
   ]
  },
  {
   "cell_type": "code",
   "execution_count": 17,
   "metadata": {},
   "outputs": [
    {
     "data": {
      "text/html": [
       "<div>\n",
       "<style scoped>\n",
       "    .dataframe tbody tr th:only-of-type {\n",
       "        vertical-align: middle;\n",
       "    }\n",
       "\n",
       "    .dataframe tbody tr th {\n",
       "        vertical-align: top;\n",
       "    }\n",
       "\n",
       "    .dataframe thead th {\n",
       "        text-align: right;\n",
       "    }\n",
       "</style>\n",
       "<table border=\"1\" class=\"dataframe\">\n",
       "  <thead>\n",
       "    <tr style=\"text-align: right;\">\n",
       "      <th></th>\n",
       "      <th>Id</th>\n",
       "      <th>SepalLengthCm</th>\n",
       "      <th>SepalWidthCm</th>\n",
       "      <th>PetalLengthCm</th>\n",
       "      <th>PetalWidthCm</th>\n",
       "      <th>Species</th>\n",
       "    </tr>\n",
       "  </thead>\n",
       "  <tbody>\n",
       "    <tr>\n",
       "      <th>100</th>\n",
       "      <td>101</td>\n",
       "      <td>6.3</td>\n",
       "      <td>3.3</td>\n",
       "      <td>6.0</td>\n",
       "      <td>2.5</td>\n",
       "      <td>Iris-virginica</td>\n",
       "    </tr>\n",
       "    <tr>\n",
       "      <th>101</th>\n",
       "      <td>102</td>\n",
       "      <td>5.8</td>\n",
       "      <td>2.7</td>\n",
       "      <td>5.1</td>\n",
       "      <td>1.9</td>\n",
       "      <td>Iris-virginica</td>\n",
       "    </tr>\n",
       "    <tr>\n",
       "      <th>102</th>\n",
       "      <td>103</td>\n",
       "      <td>7.1</td>\n",
       "      <td>3.0</td>\n",
       "      <td>5.9</td>\n",
       "      <td>2.1</td>\n",
       "      <td>Iris-virginica</td>\n",
       "    </tr>\n",
       "    <tr>\n",
       "      <th>103</th>\n",
       "      <td>104</td>\n",
       "      <td>6.3</td>\n",
       "      <td>2.9</td>\n",
       "      <td>5.6</td>\n",
       "      <td>1.8</td>\n",
       "      <td>Iris-virginica</td>\n",
       "    </tr>\n",
       "    <tr>\n",
       "      <th>104</th>\n",
       "      <td>105</td>\n",
       "      <td>6.5</td>\n",
       "      <td>3.0</td>\n",
       "      <td>5.8</td>\n",
       "      <td>2.2</td>\n",
       "      <td>Iris-virginica</td>\n",
       "    </tr>\n",
       "  </tbody>\n",
       "</table>\n",
       "</div>"
      ],
      "text/plain": [
       "      Id  SepalLengthCm  SepalWidthCm  PetalLengthCm  PetalWidthCm  \\\n",
       "100  101            6.3           3.3            6.0           2.5   \n",
       "101  102            5.8           2.7            5.1           1.9   \n",
       "102  103            7.1           3.0            5.9           2.1   \n",
       "103  104            6.3           2.9            5.6           1.8   \n",
       "104  105            6.5           3.0            5.8           2.2   \n",
       "\n",
       "            Species  \n",
       "100  Iris-virginica  \n",
       "101  Iris-virginica  \n",
       "102  Iris-virginica  \n",
       "103  Iris-virginica  \n",
       "104  Iris-virginica  "
      ]
     },
     "execution_count": 17,
     "metadata": {},
     "output_type": "execute_result"
    }
   ],
   "source": [
    "virginica.head()"
   ]
  },
  {
   "cell_type": "code",
   "execution_count": 18,
   "metadata": {},
   "outputs": [
    {
     "data": {
      "text/html": [
       "<div>\n",
       "<style scoped>\n",
       "    .dataframe tbody tr th:only-of-type {\n",
       "        vertical-align: middle;\n",
       "    }\n",
       "\n",
       "    .dataframe tbody tr th {\n",
       "        vertical-align: top;\n",
       "    }\n",
       "\n",
       "    .dataframe thead th {\n",
       "        text-align: right;\n",
       "    }\n",
       "</style>\n",
       "<table border=\"1\" class=\"dataframe\">\n",
       "  <thead>\n",
       "    <tr style=\"text-align: right;\">\n",
       "      <th></th>\n",
       "      <th>Id</th>\n",
       "      <th>SepalLengthCm</th>\n",
       "      <th>SepalWidthCm</th>\n",
       "      <th>PetalLengthCm</th>\n",
       "      <th>PetalWidthCm</th>\n",
       "    </tr>\n",
       "  </thead>\n",
       "  <tbody>\n",
       "    <tr>\n",
       "      <th>Id</th>\n",
       "      <td>1.000000</td>\n",
       "      <td>-0.012549</td>\n",
       "      <td>0.130884</td>\n",
       "      <td>-0.204204</td>\n",
       "      <td>0.036446</td>\n",
       "    </tr>\n",
       "    <tr>\n",
       "      <th>SepalLengthCm</th>\n",
       "      <td>-0.012549</td>\n",
       "      <td>1.000000</td>\n",
       "      <td>0.457228</td>\n",
       "      <td>0.864225</td>\n",
       "      <td>0.281108</td>\n",
       "    </tr>\n",
       "    <tr>\n",
       "      <th>SepalWidthCm</th>\n",
       "      <td>0.130884</td>\n",
       "      <td>0.457228</td>\n",
       "      <td>1.000000</td>\n",
       "      <td>0.401045</td>\n",
       "      <td>0.537728</td>\n",
       "    </tr>\n",
       "    <tr>\n",
       "      <th>PetalLengthCm</th>\n",
       "      <td>-0.204204</td>\n",
       "      <td>0.864225</td>\n",
       "      <td>0.401045</td>\n",
       "      <td>1.000000</td>\n",
       "      <td>0.322108</td>\n",
       "    </tr>\n",
       "    <tr>\n",
       "      <th>PetalWidthCm</th>\n",
       "      <td>0.036446</td>\n",
       "      <td>0.281108</td>\n",
       "      <td>0.537728</td>\n",
       "      <td>0.322108</td>\n",
       "      <td>1.000000</td>\n",
       "    </tr>\n",
       "  </tbody>\n",
       "</table>\n",
       "</div>"
      ],
      "text/plain": [
       "                     Id  SepalLengthCm  SepalWidthCm  PetalLengthCm  \\\n",
       "Id             1.000000      -0.012549      0.130884      -0.204204   \n",
       "SepalLengthCm -0.012549       1.000000      0.457228       0.864225   \n",
       "SepalWidthCm   0.130884       0.457228      1.000000       0.401045   \n",
       "PetalLengthCm -0.204204       0.864225      0.401045       1.000000   \n",
       "PetalWidthCm   0.036446       0.281108      0.537728       0.322108   \n",
       "\n",
       "               PetalWidthCm  \n",
       "Id                 0.036446  \n",
       "SepalLengthCm      0.281108  \n",
       "SepalWidthCm       0.537728  \n",
       "PetalLengthCm      0.322108  \n",
       "PetalWidthCm       1.000000  "
      ]
     },
     "execution_count": 18,
     "metadata": {},
     "output_type": "execute_result"
    }
   ],
   "source": [
    "virginica.corr()"
   ]
  },
  {
   "cell_type": "markdown",
   "metadata": {},
   "source": [
    "A strong positive relation between Petal length and Sepal length of virginica species"
   ]
  },
  {
   "cell_type": "code",
   "execution_count": 19,
   "metadata": {},
   "outputs": [
    {
     "data": {
      "text/plain": [
       "<matplotlib.axes._subplots.AxesSubplot at 0x26465c4b400>"
      ]
     },
     "execution_count": 19,
     "metadata": {},
     "output_type": "execute_result"
    },
    {
     "data": {
      "image/png": "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\n",
      "text/plain": [
       "<Figure size 432x288 with 2 Axes>"
      ]
     },
     "metadata": {
      "needs_background": "light"
     },
     "output_type": "display_data"
    }
   ],
   "source": [
    "sns.heatmap(virginica.corr())"
   ]
  },
  {
   "cell_type": "code",
   "execution_count": 20,
   "metadata": {},
   "outputs": [
    {
     "data": {
      "text/plain": [
       "<seaborn.axisgrid.FacetGrid at 0x26465caf640>"
      ]
     },
     "execution_count": 20,
     "metadata": {},
     "output_type": "execute_result"
    },
    {
     "data": {
      "image/png": "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\n",
      "text/plain": [
       "<Figure size 360x360 with 1 Axes>"
      ]
     },
     "metadata": {
      "needs_background": "light"
     },
     "output_type": "display_data"
    }
   ],
   "source": [
    "sns.relplot('SepalLengthCm','PetalLengthCm',data=setosa,kind='scatter',ci=False)"
   ]
  },
  {
   "cell_type": "code",
   "execution_count": 21,
   "metadata": {},
   "outputs": [
    {
     "data": {
      "text/html": [
       "<div>\n",
       "<style scoped>\n",
       "    .dataframe tbody tr th:only-of-type {\n",
       "        vertical-align: middle;\n",
       "    }\n",
       "\n",
       "    .dataframe tbody tr th {\n",
       "        vertical-align: top;\n",
       "    }\n",
       "\n",
       "    .dataframe thead th {\n",
       "        text-align: right;\n",
       "    }\n",
       "</style>\n",
       "<table border=\"1\" class=\"dataframe\">\n",
       "  <thead>\n",
       "    <tr style=\"text-align: right;\">\n",
       "      <th></th>\n",
       "      <th>Id</th>\n",
       "      <th>SepalLengthCm</th>\n",
       "      <th>SepalWidthCm</th>\n",
       "      <th>PetalLengthCm</th>\n",
       "      <th>PetalWidthCm</th>\n",
       "    </tr>\n",
       "  </thead>\n",
       "  <tbody>\n",
       "    <tr>\n",
       "      <th>count</th>\n",
       "      <td>50.00000</td>\n",
       "      <td>50.00000</td>\n",
       "      <td>50.000000</td>\n",
       "      <td>50.000000</td>\n",
       "      <td>50.00000</td>\n",
       "    </tr>\n",
       "    <tr>\n",
       "      <th>mean</th>\n",
       "      <td>125.50000</td>\n",
       "      <td>6.58800</td>\n",
       "      <td>2.974000</td>\n",
       "      <td>5.552000</td>\n",
       "      <td>2.02600</td>\n",
       "    </tr>\n",
       "    <tr>\n",
       "      <th>std</th>\n",
       "      <td>14.57738</td>\n",
       "      <td>0.63588</td>\n",
       "      <td>0.322497</td>\n",
       "      <td>0.551895</td>\n",
       "      <td>0.27465</td>\n",
       "    </tr>\n",
       "    <tr>\n",
       "      <th>min</th>\n",
       "      <td>101.00000</td>\n",
       "      <td>4.90000</td>\n",
       "      <td>2.200000</td>\n",
       "      <td>4.500000</td>\n",
       "      <td>1.40000</td>\n",
       "    </tr>\n",
       "    <tr>\n",
       "      <th>25%</th>\n",
       "      <td>113.25000</td>\n",
       "      <td>6.22500</td>\n",
       "      <td>2.800000</td>\n",
       "      <td>5.100000</td>\n",
       "      <td>1.80000</td>\n",
       "    </tr>\n",
       "    <tr>\n",
       "      <th>50%</th>\n",
       "      <td>125.50000</td>\n",
       "      <td>6.50000</td>\n",
       "      <td>3.000000</td>\n",
       "      <td>5.550000</td>\n",
       "      <td>2.00000</td>\n",
       "    </tr>\n",
       "    <tr>\n",
       "      <th>75%</th>\n",
       "      <td>137.75000</td>\n",
       "      <td>6.90000</td>\n",
       "      <td>3.175000</td>\n",
       "      <td>5.875000</td>\n",
       "      <td>2.30000</td>\n",
       "    </tr>\n",
       "    <tr>\n",
       "      <th>max</th>\n",
       "      <td>150.00000</td>\n",
       "      <td>7.90000</td>\n",
       "      <td>3.800000</td>\n",
       "      <td>6.900000</td>\n",
       "      <td>2.50000</td>\n",
       "    </tr>\n",
       "  </tbody>\n",
       "</table>\n",
       "</div>"
      ],
      "text/plain": [
       "              Id  SepalLengthCm  SepalWidthCm  PetalLengthCm  PetalWidthCm\n",
       "count   50.00000       50.00000     50.000000      50.000000      50.00000\n",
       "mean   125.50000        6.58800      2.974000       5.552000       2.02600\n",
       "std     14.57738        0.63588      0.322497       0.551895       0.27465\n",
       "min    101.00000        4.90000      2.200000       4.500000       1.40000\n",
       "25%    113.25000        6.22500      2.800000       5.100000       1.80000\n",
       "50%    125.50000        6.50000      3.000000       5.550000       2.00000\n",
       "75%    137.75000        6.90000      3.175000       5.875000       2.30000\n",
       "max    150.00000        7.90000      3.800000       6.900000       2.50000"
      ]
     },
     "execution_count": 21,
     "metadata": {},
     "output_type": "execute_result"
    }
   ],
   "source": [
    "virginica.describe()"
   ]
  },
  {
   "cell_type": "markdown",
   "metadata": {},
   "source": [
    "# For Versicolor Species"
   ]
  },
  {
   "cell_type": "code",
   "execution_count": 22,
   "metadata": {},
   "outputs": [],
   "source": [
    "versicolor=pd.DataFrame(df[df['Species']=='Iris-versicolor'])"
   ]
  },
  {
   "cell_type": "code",
   "execution_count": 23,
   "metadata": {},
   "outputs": [
    {
     "data": {
      "text/html": [
       "<div>\n",
       "<style scoped>\n",
       "    .dataframe tbody tr th:only-of-type {\n",
       "        vertical-align: middle;\n",
       "    }\n",
       "\n",
       "    .dataframe tbody tr th {\n",
       "        vertical-align: top;\n",
       "    }\n",
       "\n",
       "    .dataframe thead th {\n",
       "        text-align: right;\n",
       "    }\n",
       "</style>\n",
       "<table border=\"1\" class=\"dataframe\">\n",
       "  <thead>\n",
       "    <tr style=\"text-align: right;\">\n",
       "      <th></th>\n",
       "      <th>Id</th>\n",
       "      <th>SepalLengthCm</th>\n",
       "      <th>SepalWidthCm</th>\n",
       "      <th>PetalLengthCm</th>\n",
       "      <th>PetalWidthCm</th>\n",
       "      <th>Species</th>\n",
       "    </tr>\n",
       "  </thead>\n",
       "  <tbody>\n",
       "    <tr>\n",
       "      <th>50</th>\n",
       "      <td>51</td>\n",
       "      <td>7.0</td>\n",
       "      <td>3.2</td>\n",
       "      <td>4.7</td>\n",
       "      <td>1.4</td>\n",
       "      <td>Iris-versicolor</td>\n",
       "    </tr>\n",
       "    <tr>\n",
       "      <th>51</th>\n",
       "      <td>52</td>\n",
       "      <td>6.4</td>\n",
       "      <td>3.2</td>\n",
       "      <td>4.5</td>\n",
       "      <td>1.5</td>\n",
       "      <td>Iris-versicolor</td>\n",
       "    </tr>\n",
       "    <tr>\n",
       "      <th>52</th>\n",
       "      <td>53</td>\n",
       "      <td>6.9</td>\n",
       "      <td>3.1</td>\n",
       "      <td>4.9</td>\n",
       "      <td>1.5</td>\n",
       "      <td>Iris-versicolor</td>\n",
       "    </tr>\n",
       "    <tr>\n",
       "      <th>53</th>\n",
       "      <td>54</td>\n",
       "      <td>5.5</td>\n",
       "      <td>2.3</td>\n",
       "      <td>4.0</td>\n",
       "      <td>1.3</td>\n",
       "      <td>Iris-versicolor</td>\n",
       "    </tr>\n",
       "    <tr>\n",
       "      <th>54</th>\n",
       "      <td>55</td>\n",
       "      <td>6.5</td>\n",
       "      <td>2.8</td>\n",
       "      <td>4.6</td>\n",
       "      <td>1.5</td>\n",
       "      <td>Iris-versicolor</td>\n",
       "    </tr>\n",
       "  </tbody>\n",
       "</table>\n",
       "</div>"
      ],
      "text/plain": [
       "    Id  SepalLengthCm  SepalWidthCm  PetalLengthCm  PetalWidthCm  \\\n",
       "50  51            7.0           3.2            4.7           1.4   \n",
       "51  52            6.4           3.2            4.5           1.5   \n",
       "52  53            6.9           3.1            4.9           1.5   \n",
       "53  54            5.5           2.3            4.0           1.3   \n",
       "54  55            6.5           2.8            4.6           1.5   \n",
       "\n",
       "            Species  \n",
       "50  Iris-versicolor  \n",
       "51  Iris-versicolor  \n",
       "52  Iris-versicolor  \n",
       "53  Iris-versicolor  \n",
       "54  Iris-versicolor  "
      ]
     },
     "execution_count": 23,
     "metadata": {},
     "output_type": "execute_result"
    }
   ],
   "source": [
    "versicolor.head()"
   ]
  },
  {
   "cell_type": "code",
   "execution_count": 24,
   "metadata": {},
   "outputs": [
    {
     "data": {
      "text/html": [
       "<div>\n",
       "<style scoped>\n",
       "    .dataframe tbody tr th:only-of-type {\n",
       "        vertical-align: middle;\n",
       "    }\n",
       "\n",
       "    .dataframe tbody tr th {\n",
       "        vertical-align: top;\n",
       "    }\n",
       "\n",
       "    .dataframe thead th {\n",
       "        text-align: right;\n",
       "    }\n",
       "</style>\n",
       "<table border=\"1\" class=\"dataframe\">\n",
       "  <thead>\n",
       "    <tr style=\"text-align: right;\">\n",
       "      <th></th>\n",
       "      <th>Id</th>\n",
       "      <th>SepalLengthCm</th>\n",
       "      <th>SepalWidthCm</th>\n",
       "      <th>PetalLengthCm</th>\n",
       "      <th>PetalWidthCm</th>\n",
       "    </tr>\n",
       "  </thead>\n",
       "  <tbody>\n",
       "    <tr>\n",
       "      <th>Id</th>\n",
       "      <td>1.000000</td>\n",
       "      <td>-0.269056</td>\n",
       "      <td>-0.081867</td>\n",
       "      <td>-0.189481</td>\n",
       "      <td>-0.168846</td>\n",
       "    </tr>\n",
       "    <tr>\n",
       "      <th>SepalLengthCm</th>\n",
       "      <td>-0.269056</td>\n",
       "      <td>1.000000</td>\n",
       "      <td>0.525911</td>\n",
       "      <td>0.754049</td>\n",
       "      <td>0.546461</td>\n",
       "    </tr>\n",
       "    <tr>\n",
       "      <th>SepalWidthCm</th>\n",
       "      <td>-0.081867</td>\n",
       "      <td>0.525911</td>\n",
       "      <td>1.000000</td>\n",
       "      <td>0.560522</td>\n",
       "      <td>0.663999</td>\n",
       "    </tr>\n",
       "    <tr>\n",
       "      <th>PetalLengthCm</th>\n",
       "      <td>-0.189481</td>\n",
       "      <td>0.754049</td>\n",
       "      <td>0.560522</td>\n",
       "      <td>1.000000</td>\n",
       "      <td>0.786668</td>\n",
       "    </tr>\n",
       "    <tr>\n",
       "      <th>PetalWidthCm</th>\n",
       "      <td>-0.168846</td>\n",
       "      <td>0.546461</td>\n",
       "      <td>0.663999</td>\n",
       "      <td>0.786668</td>\n",
       "      <td>1.000000</td>\n",
       "    </tr>\n",
       "  </tbody>\n",
       "</table>\n",
       "</div>"
      ],
      "text/plain": [
       "                     Id  SepalLengthCm  SepalWidthCm  PetalLengthCm  \\\n",
       "Id             1.000000      -0.269056     -0.081867      -0.189481   \n",
       "SepalLengthCm -0.269056       1.000000      0.525911       0.754049   \n",
       "SepalWidthCm  -0.081867       0.525911      1.000000       0.560522   \n",
       "PetalLengthCm -0.189481       0.754049      0.560522       1.000000   \n",
       "PetalWidthCm  -0.168846       0.546461      0.663999       0.786668   \n",
       "\n",
       "               PetalWidthCm  \n",
       "Id                -0.168846  \n",
       "SepalLengthCm      0.546461  \n",
       "SepalWidthCm       0.663999  \n",
       "PetalLengthCm      0.786668  \n",
       "PetalWidthCm       1.000000  "
      ]
     },
     "execution_count": 24,
     "metadata": {},
     "output_type": "execute_result"
    }
   ],
   "source": [
    "versicolor.corr()"
   ]
  },
  {
   "cell_type": "markdown",
   "metadata": {},
   "source": [
    "Strong poditive relation between Petal length and Petal width as well as Petal length and Sepal length"
   ]
  },
  {
   "cell_type": "code",
   "execution_count": 25,
   "metadata": {},
   "outputs": [
    {
     "data": {
      "text/plain": [
       "<matplotlib.axes._subplots.AxesSubplot at 0x26465d2bee0>"
      ]
     },
     "execution_count": 25,
     "metadata": {},
     "output_type": "execute_result"
    },
    {
     "data": {
      "image/png": "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\n",
      "text/plain": [
       "<Figure size 432x288 with 2 Axes>"
      ]
     },
     "metadata": {
      "needs_background": "light"
     },
     "output_type": "display_data"
    }
   ],
   "source": [
    "sns.heatmap(versicolor.corr())"
   ]
  },
  {
   "cell_type": "code",
   "execution_count": 26,
   "metadata": {},
   "outputs": [
    {
     "data": {
      "text/plain": [
       "<seaborn.axisgrid.FacetGrid at 0x26465dc28b0>"
      ]
     },
     "execution_count": 26,
     "metadata": {},
     "output_type": "execute_result"
    },
    {
     "data": {
      "image/png": "iVBORw0KGgoAAAANSUhEUgAAAWAAAAFgCAYAAACFYaNMAAAABHNCSVQICAgIfAhkiAAAAAlwSFlzAAALEgAACxIB0t1+/AAAADh0RVh0U29mdHdhcmUAbWF0cGxvdGxpYiB2ZXJzaW9uMy4yLjEsIGh0dHA6Ly9tYXRwbG90bGliLm9yZy+j8jraAAAgAElEQVR4nO3dfZRkdX3n8fe3urqbnunBGYZuFGZgNCKKbkS6HUJMXBTjgrKSBM8R3ZaDbsBhfcIkm2PcHBP1bJKTB7Mi2WlBQcZBTRR8SNbHZc1KogjdI4o8qPjAzojSzTDANNN2d3V994+63VRV36q6VVO3f7eqPq9z+lB1695bX0b5TvWvfr/Pz9wdERFZf7nQBYiI9Co1YBGRQNSARUQCUQMWEQlEDVhEJJB86AKadd555/mXvvSl0GWIiDTD4g523Cfghx9+OHQJIiJt0XENWESkW6gBi4gEogYsIhKIGrCISCBqwCIigagBi4gEogYsIhKIGrCISCBqwCIigaTWgM1su5l9zczuNbO7zeztMeecY2aPmdmd0c+706pHRNJTLDqzhxf42aEjzB5eoFhMttFD3HWt3qsTpZkFUQD+wN33mdkmYNrMvuru91Sdd6u7X5BiHSKSomLR+f5Dh7lszxQHDs2zbcsQ114yzmknbCKXi41AqHndnjfuZKFQbPpenSq1T8Du/nN33xc9PgzcC5yU1vuJSBgHn1hcbZgABw7Nc9meKQ4+sdj0dQ8cPNLSvTrVuowBm9kO4AXAt2JePtvMvmNmXzSz59a4/nIzmzKzqdnZ2RQrFZFmLRaWVxvmigOH5lksLDd93YaBvpbu1alSb8BmNgzcBFzp7o9XvbwPOMXdnw98EPhs3D3c/Rp3H3f38ZGRkXQLFpGmDOT72LZlqOLYti1DDOT7mr7uyOJyS/fqVKk2YDPrp9R8b3T3m6tfd/fH3X0uevwFoN/Mjk+zJhFpr60bB7j2kvHVxrkybrt140DT152ydUNL9+pUlta29GZmwA3AI+5+ZY1zngo85O5uZjuBT1P6RFyzqPHxcZ+amkqlZhFpTbHoHHxikcXCMgP5PrZuHEj0pVncdUBL98q42H+BNGdBvAh4PXCXmd0ZHXsXcDKAu08CrwauMLMCMA9cXK/5ikg25XLGyKbBtl3Xyr06UWoN2N3/lRpdv+ycq4Gr06pBRCTLtBJORCQQNWARkUDUgEVEAum4belFpLFWZyUkVSgUmZlbYGm5SH9fjtHhQfJ5fZ5rlhqwSJdpNZshqUKhyH0PHWbX3unV+09OjPHsEzapCTdJf1oiXabVbIakZuYWVpvvyv137Z1mZm6hLffvJWrAIl2m1WyGpJaWi7H3LywX23L/XqIGLNJlWs1mSKq/Lxd7/3yf2kmz9Ccm0mVazWZIanR4kMmJsYr7T06MMTrcG6vX2im1LIi0KAtCpLH1mgVRWC6S1yyIJNY9C0JEAmk1myGpfD7HiZuHGp8odemvLBGRQNSARUQCUQMWEQlEDVhEJBB9CSfShZLuNFF9bMtQP4fml9qys0X1dUlnZqQ9g6MVadWkBizSZeKyIPa8cScLheKafIjBfI5LrrudA4fmefnpo7zt3GdVZDwkyZBIkj2RNJ8i7RyLVqRZk4YgRLpMXBbEAwePxOZDPHDwyOqxi8a2r8l4SJIhkSR7Imk+Rdo5Fq1IsyY1YJEuE5cFsWGgLza/YcPAk8uTNw/1t5QhkSR7Imk+Rdo5Fq1IsyY1YJEuE5cFcWRxOTa/4cjik03k0fmlljIkkmRPJM2nSDvHohVp1qQGLNJl4rIgTtm6ITYf4pStG1aP3TS9f03GQ5IMiSTZE0nzKdLOsWhFmjUpC0KkC2kWRHu1oabYk9WARUTSF9uANQQhIhKIGrCISCBqwCIigWglnIg0rZ1fuoUWsk41YBFpSjuXHocWuk4NQYhIU9q59Di00HWqAYtIU9q59Di00HWqAYtIU9q59Di00HWqAYtIU9q59Di00HVqJZyINE2zIJqmbelFpD2SbHuf5JwsCFmnhiBERAJRAxYRCUQNWEQkEDVgEZFA9CWciKxKM8g9C7MislBDOTVgEQFq5yKUb11fa4v7yYkxrrrlB3zlnpnMZkNkoYZqGoIQEaB2LkL51vW1trjftXeai8a2V1yXtWyILNRQTQ1YRIDauQjlW9dD7S3uNw/1VzzPWjZEFmqopgYsIkDtXITyreuh9hb3j84vVTzPWjZEFmqopgYsIkDtXITyretrbXE/OTHGTdP7K67LWjZEFmqopiwIEVmlWRCpURaEiNRXKxchybFOyIbIQg3lNAQhIhKIGrCISCBqwCIigaTWgM1su5l9zczuNbO7zeztMeeYmV1lZveb2XfN7My06hERyZo0v4QrAH/g7vvMbBMwbWZfdfd7ys45Hzg1+jkL2B39U0RqSDJTIW5WQvU5oXMQ2q3VGQ4hZ2ek1oDd/efAz6PHh83sXuAkoLwBXwjs8dJcuNvMbLOZPS26VkSqJM1rqM5miMtvCJ2D0E6t5jyEzodYlzFgM9sBvAD4VtVLJwH7y54fiI6JSIykeQ3V2Qxx+Q2hcxDaqdWch9D5EKk3YDMbBm4CrnT3x6tfjrlkzcoQM7vczKbMbGp2djaNMkU6QtK8hupshlr5DSFzENqp1ZyH0PkQqTZgM+un1HxvdPebY045AGwve74NeLD6JHe/xt3H3X18ZGQknWJFOkDSvIbqbIZa+Q0hcxDaqdWch9D5EGnOgjDgI8C97v7+Gqd9Hrgkmg3xa8BjGv8VqS1pXkN1NkNcfkPoHIR2ajXnIXQ+RGpZEGb2G8CtwF1AMTr8LuBkAHefjJr01cB5wBHgDe5eN+hBWRDS6zQLIl7GZ0HE3lBhPCIi6YttwFoJJyISiBqwiEggasAiIoEoD1ikC1R/kbT5mDyzTyyytFykvy/H6PAg+fzaz1tZCEnvhJrSogYs0uHiltPunhjjg2VLkScnxnj2CZsqmnDoZbhJ/11C15QmDUGIdLi45bRXVC1F3rV3mpm5hYbXhV6enMWa0qQGLNLhai2nrd4mvrBcTHRdyOXJWawpTWrAIh2u1nLa6m3i8325RNeFXJ6cxZrSpAYs0uHiltPurlqKPDkxxujwYMPrQi9PzmJNadJKOJEuUGsWRGG5SF6zILJA29KLdKu47dZP3DxU4+z614WWxZrSoiEIEZFA1IBFRAJRAxYRCUQNWEQkEH0JJ5JhS0vLzMwtUCg6+ZwxOjyImTEzt1A356GdMwkKheKa98vlrOH9k9SQ8RD11KkBi2TU0tIy983MccXe6Yrt5o/pz3Hp9XdUHCvPeWhnnkKhUOS+hw6zq6qGpwzlee2136p5/yQ1dOpW8u2kIQiRjJqZW1htvvBkpsP+R+bXHCvPeWhnnsLM3MJq8y1/v4WC171/kho6dSv5dlIDFsmoQtFjcxHitqAvz3loZ57C0nIx9l7VHzSr75+khk7dSr6d1IBFMiqfs8Rb0JfnPLQzT6G/Lxd7r2LVAtrq+yepoVO3km8nNWCRjBodHmT3xNia7ea3Hze05lh5zkM78xRGhweZjKlhMG9175+khk7dSr6dlAUhkmH1ZkHUy3lIYxZE+ftpFkTTtC29iEgg2pZeRCRL1IBFRAJRAxYRCUQNWEQkEC1FFlkHaX9r34GzAgQ1YJHUpZ1d0E3ZCL1GQxAiKUs7u6CbshF6jRqwSMrSzi7opmyEXqMGLJKytLMLuikbodeoAYukLO3sgm7KRug1Woossg40C6Lnxf6PoVkQIusglzNGNg02PjGj95d0aAhCRCQQNWARkUDUgEVEAtEYsMg6SPolWbu+TMvCl3JZqCHr1IBFUpZ0qXC7lhRnYWlyFmroBBqCEElZ0qXC7VpSnIWlyVmooROoAYukLOlS4XYtKc7C0uQs1NAJ1IBFUpZ0qXC7lhRnYWlyFmroBGrAIilLulS4XUuKs7A0OQs1dIJES5HNrA94JbCDsi/u3P39qVVWg5YiSyfSLIienwVxVEuR/wn4JXAXUGxXRSK9IulS4XYtKc7C0uQs1JB1SRvwNnf/1VQrERHpMUnHgL9oZi9PtRIRkR6T9BPwbcBnzCwHLFEaz3B3Pza1ykREulzSBvy3wNnAXd5pAcIiIhmVtAH/EPheM83XzK4DLgBm3P15Ma+fA3wO+El06GZ3f2/S+4uE0sq3+wsLBR4+skih6ORzxvEbBujv71tzH6DhvQuFIjNzCywtF+nvyzE6PEguZxXXbRnq59D8kmYgZFzSBvxz4F/M7IvAwsrBBtPQPgpcDeypc86t7n5BwhpEgmsl42BhocAPHn6CK/ZOr16ze2KME44d4Hf/5zdXj+15404WCsW69y4Uitz30GF2ld3ro294IUsF57KPla57+emjvO3cZ1WcoxyGbEr6JdxPgFuAAWBT2U9N7v514JGjqk4kY1rJOHj4yOJq81255oq90ywWvOLYAwePNLz3zNzCamNdOWf/I/OrzRfgorHta85RDkM21f0EbGbHAJvc/T1Vx08AHmvD+59tZt8BHgT+0N3vrlHH5cDlACeffHIb3lakNa1kHBSKHnvNcrFyRG/DQF/Dey8tF9ecU33d5qF+5TB0iEafgK8CfjPm+MuAvzvK994HnOLuzwc+CHy21onufo27j7v7+MjIyFG+rUjrWsk4yOcs9pq+quGAI4vLDe/d35dbc071dY/OLymHoUM0asC/4e43Vx909xuBFx/NG7v74+4+Fz3+AtBvZscfzT1F0tZKxsHxGwbYPTFWcc3uiTEG8lZx7JStGxree3R4kMmqe20/bohrX//kdTdN719zjnIYsqluFoSZ3evuz2n2tbJzdgD/XGMWxFOBh9zdzWwn8GlKn4jrzrRQFoSElpVZEIXlInnNgugULWVBzJjZTne/veJOZi8EZuu+m9kngHOA483sAPCnQD+Au08CrwauMLMCMA9crDnG0glayTgYHMxz0uDa/9zi7tPo3vl8jhM3D605Xn2dchiyr1ED/q/AP5rZR4Hp6Ng4cAlwcb0L3f21DV6/mtI0NRGRnlR3DDj65LuT0sfnS6MfA85y92+lXZyISDdruBDD3WcoDR+IiEgbJVoJZ2YvotSEd0TXrITxPCO90kTSlWZgeNxy4Xy+8hfOuPcvFr3iupGNAzz6y0LmvkxT2Hp7JF2K/BHgHZTGgTWbWzpemtumxy0XnpwY49knbFptwrHv//px+vPGpdffsbqk+K3nPqtiCXMWlhRry/n2SboU+TF3/6K7z7j7wZWfVCsTSVGa26bHLRfetXeambnVGJX49//YFPsfma9YUly9hDkLS4q15Xz7NFqKfGb08Gtm9tfAzVSG8exLsTaR1KS5bXrccuEDh+YpLD+5m1et998w8ORqtawuKdaW8+3TaAjib6uej5c9duCl7S1HZH2sLCkubyTtWq67sly4+t75vid/4az1/kcWn2xiK0uK06jxaKT5Z9drGk1De4m7vwT4zyuPy4793vqUKNJ+aW6bHrdceHJijNHhJxdGxL7/68fZftxQxZLi6iXMWVhSrC3n2yfptvT73P3MqmPT7j6WWmU1aCmytMt6zIIoXy7czCyIles0C6JrNL8U2cyeDTwXeIqZ/W7ZS8cCx7SvNpH1l+a26bWWCzd6/1zO1lw30p+9X+215Xx7NBoDPo3StkKbgf9YdvwwcFlaRYmI9IK6DdjdPwd8zszOdvdvrlNNIiI9odEQxAcpzXbAzNaE67j721KqS0Sk6zVaiDFFafXbMcCZlHZH/iFwBloRJyJyVBoNQdwAYGaXAi9x96Xo+STwldSrE0mgXd/ILy0tl2YgRKHpo8ODmNmaTAeg4tjxG/p5+MhS09vEQ+PwdeluSbMgTqS0C/LKLsfD0TGRoNqVS7C0tMx9M3MVuQsffcML+eVSsSLT4UMTYwz25+rmNUxOjLFhoI9Lrru94thVt/yAr9wzk3gLeul+SbMg/hL4tpl9NApn3wf8eWpViSTUrlyCmbmFNbkL+x+ZX5Pp8Ka90w3zGnbtneaBg0fWHLtobPvq8yRb0Ev3S/QJ2N2vN7MvAmdFh97p7r9IryyRZNqVSxC3dXytbeKT5DWUn7NybPNQf8N7K0+ht9T9BBwtxFgJ5TkR2B/9nFgW1CMSTCvbxMeJ2zq+1jbxcXkN9c5ZOfbo/FLDeytPobc0GoL4g+iffxvz8zcp1iWSSLtyCUaHB9fkLmw/bmhNpsOHJsYa5jVMToxxytYNa47dNL1/9XmSLeil+zXaln6Lux9ax3oaUhaEVFuPWRDlmQ5AxbGVWRDNbhMPmgXRQ2L/h23UgGcobT//DeDfgG+4+w9SKS8hNWAR6UCxDbhRHOUo8DuUmu+vAzeb2UNm9jkz+6P21ygi0jsSxVGunmz2K8ArgLcDJ7l7/binFOgTsIh0oJbiKH+d0iffs4HtwI+B24AJSnOBRUSkRY3mAf8rpUb7fuCz7n4k/ZJERHpDowZ8IqVPwL8O7DKzPKWG/E3gm+7+45TrE0lN9eyJuJkKcbMSksy6aHVmhnaa6C2Nwnh+QWkn5JsBzGwD8EbgPcDTAc0al45UnSHx8tNHedu5z6rIfYjLZkiSPdFqPkW7ci2kczRaCfcUMzvPzN5rZv+b0iq41wP/BLxmPQoUSUN1hsRFY9vX5D7EZTMkyZ5oNZ+iXbkW0jkaDUHcT+lLt28A7wNud/f5+peIZF91hkStTIfqbIYk2ROt5lO0K9dCOkejIYiR9SpEZD2tZEisNLyVTIfyBhiXzVB9Xdx5Sc5JUlPS66RzNRqC+Ccz+3ytn/UqUqTdqjMkbprevyb3IS6bIUn2RKv5FO3KtZDO0Wgp8r+vd7G7/9+2V9SAFmJIu2gWhKyj5hdihGiwIusllzNGNg1WHKt+nvS6Vs5p53XSmRIFspvZqcBfAKdT2qATAHd/Rkp1iYh0vaRbEl0P7AYKwEuAPcDH0ipKRKQXJG3AQ+5+C6Ux4wfc/c+Al6ZXlohI90u6K/IvzSwH/NDM3gL8DBhNryzpZFn8IimuJlAguoSVtAFfCWwA3kZpQcZLgEvSKko6VxaX09aqaTCfq9g6PnSd0nuSDkHscPc5dz/g7m9w94uAk9MsTDpTFpfT1qqpeuv40HVK70nagP844THpcVlcTlurprit47XsV9ZTo0D28yntgHGSmV1V9tKxlGZEiFTI4nLaWjXFbR2vZb+ynhp9An4QmAJ+CUyX/Xwe+A/pliadKIvLaWvVVL11fOg6pfck2hPOzPopfVo+2d2/n3pVdWgpcvZpFoTIGs0vRS5zHvA3wADwdDM7A3ivu7+qTcVJF8nictpaNWWtTuktSb+E+zNgJ/AogLvfCexIpyQRkd6QtAEX3P2xVCsREekxSYcgvmdmrwP6omCet1HaJUNERFqU9BPwW4HnAgvAx4HHKK2OExGRFjWaB3wMsAt4JnAXcLa7J5r/a2bXARcAM+7+vJjXDfgApXnGR4BL3X1fc+VLNykUiszMLbC0XKS/L8fo8CD5fK7pc9oZhg6aKSHpaTQEcQOwBNwKnA88h+SffD8KXE0pujLO+cCp0c9ZlOIuz0p4b+kyhUKR+x46XLEt/OTEGM8+YdNqg01yTju3hN/zxp0sFIqZyrWQ7tJoCOJ0d59w9w8BrwZenPTG7v514JE6p1wI7PGS24DNZva0pPeX7jIzt7BmW/hde6eZmVto6px2bgn/wMEjmcu1kO7SqAEvrTxIOvTQhJOA/WXPD0TH1jCzy81sysymZmdn21yGZMHScjE2r6GwXGzqnHZuCb9hoC9zuRbSXRo14Oeb2ePRz2HgV1cem9njR/necb/DxS7Lc/dr3H3c3cdHRkaO8m0li/r7cqvLglds2zJEvi/X1DkruQ/V5yTdEr7ckcXllu4lklTdBuzufe5+bPSzyd3zZY+PPcr3PgBsL3u+jVL2hPSg0eHBNdvCT06MMTo82NQ57dwS/pStGzKXayHdJVEWRMs3N9sB/HONWRCvBN5CaRbEWcBV7r6z0T2VBdG9VmY4FJaL5BvMgqh3jmZBSAYdVRZE8+9m9gngHOB4MzsA/CnQD+Duk8AXKDXf+ylNQ3tDWrVIZ8jnc5y4eeioz2n3lvDKi5C0pNaA3f21DV534M1pvb+ISNYlXQknIiJtpgYsIhKIGrCISCBqwCIigagBi4gEogYsIhKIGrCISCBqwCIigagBi4gEogYsIhKIGrCISCBqwCIigagBi4gEogYsIhKIGrCISCBqwCIigagBi4gEogYsIhKIGrCISCBqwCIigagBi4gEogYsIhKIGrCISCBqwCIigagBi4gEogYsIhKIGrCISCBqwCIigagBi4gEogYsIhKIGrCISCBqwCIigagBi4gEogYsIhKIGrCISCBqwCIigagBi4gEogYsIhJIPnQB3aZYdA4+schiYZmBfB9bNw6Qy1noskQkg9SA26hYdL7/0GEu2zPFgUPzbNsyxLWXjHPaCZvUhEVkDQ1BtNHBJxZXmy/AgUPzXLZnioNPLAauTESySA24jRYLy6vNd8WBQ/MsFpYDVSQiWaYG3EYD+T62bRmqOLZtyxAD+b5AFYlIlqkBt9HWjQNce8n4ahNeGQPeunEgcGUikkX6Eq6NcjnjtBM28Zn/8iLNghCRhtSA2yyXM0Y2DYYuQ0Q6gIYgREQCUQMWEQlEDVhEJJBUG7CZnWdm3zez+83snTGvn2Nmj5nZndHPu9OsJ4Ri0Zk9vMDPDh1h9vACxaKHLklEMiK1L+HMrA/4e+C3gAPAHWb2eXe/p+rUW939grTqCElLk0WknjQ/Ae8E7nf3H7v7IvBJ4MIU3y9ztDRZROpJswGfBOwve34gOlbtbDP7jpl90cyeG3cjM7vczKbMbGp2djaNWlOhpckiUk+aDTjud+zqAdB9wCnu/nzgg8Bn427k7te4+7i7j4+MjLS5zPRoabKI1JNmAz4AbC97vg14sPwEd3/c3eeix18A+s3s+BRrWldamiwi9aS5Eu4O4FQzezrwM+Bi4HXlJ5jZU4GH3N3NbCelvxAOpljTutLSZBGpJ7UG7O4FM3sL8GWgD7jO3e82s13R65PAq4ErzKwAzAMXu3tXzdPS0mQRqcU6rd+Nj4/71NRU6DJERJoR+2uvVsKJiASiBiwiEogasIhIIMoDriHJ9vJLS8vMzC1QKDr5nDE6PEhfX67iui1D/RyaX2o4C0Lb2Yv0HjXgGEkyHJaWlrlvZo4r9k6vnjM5McaG/j4uuf72imNX3fIDvnLPTM0sCGVGiPQmDUHESJLhMDO3sNp8V87ZtXeaBx45subYRWPba94n6fuJSPdRA46RJMOhUPTYczYM9K05tnmov+Z9kr6fiHQfNeAYSTIc8jmLPefI4vKaY4/OL9W8T9L3E5HuowYcI0mGw+jwILsnxirOmZwY45TjNqw5dtP0/pr3Sfp+ItJ9tBKuBs2CEJE2iv2PWbMgakiS4dDf38dJWzasOV59XZIsCGVGiPQeDUGIiASiBiwiEogasIhIIGrAIiKB6Eu4GgqFIjNzCywtF+nvy7F1qJ+HjyzWnfEQN3NBsxtEpBY14BiFQpH7HjrMrmip8ctPH+Wt5z6rYe5DdX6DMh5EpB4NQcSYmVtYbb4AF41tT5T7UJ3foIwHEalHDTjG0nKxIpth81B/4tyH8vwGZTyISD1qwDH6+3IV2QyPzi8lzn0oz29QxoOI1KMGHGN0eJDJspyHm6b3J8p9qM5vUMaDiNSjLIgaVmZBFJaL5DULQkSOjrIgmpHP5zhxc+XwwUmDa/+4GuU3KONBRGrREISISCBqwCIigagBi4gE0vVjwEm+BKtedjw6PEixWGT2iSe/dNs6NMDB+crnwJpjZlR8Wbd1aIDDS8sKZBeRNbq6ASdZCly97HjbliE+tevXeHhuaXX125t+cwcXnLFtzVLkY/pzXHr9HXWP7Z4Y46ezj/PWT35X29KLSIWuHoJIur38rqplxoVlKpYev3r85NilyPsfmW947Iq907zglK013z9pnSLSfbq6ASdZCly97Bhg2Su3nO/LWeKlyHHHlote8Vzb0osIdHkDTrIUuHrZMUCfVW45v1z0xEuR4471lQ0jaFt6EVnR1Q046fbyk1XLjPN9VCw9/vTU/4tdirz9uKGGx3ZPjPHtBw7WfP+kdYpI9+n6pcjNzIJYWXasWRAi0max/zF3fQMWEcmA2Abc1UMQIiJZpgYsIhKIGrCISCBqwCIigXT1UuRaWplxEHdNobBcMVNiZOMAAwM9+UcqIi3ouW7RSu5C3DXVeRErc35PG9moJiwiifTcEEQruQtx11TnRazkPswqv0FEEuq5BtxK7kLcNdV5ESv3KRQ7a161iITTcw24ldyFuGuq8yJW7pPX6jURSajnGnAruQtx11TnRayMAY8ov0FEEurJpciaBSEi60zb0q9oZav4uGsGBvKcpIYrIi3quSEIEZGsUAMWEQlEDVhEJJBUG7CZnWdm3zez+83snTGvm5ldFb3+XTM7M816RESyJLUGbGZ9wN8D5wOnA681s9OrTjsfODX6uRzYnVY9IiJZk+Yn4J3A/e7+Y3dfBD4JXFh1zoXAHi+5DdhsZk9LsSYRkcxIswGfBOwve34gOtbsOZjZ5WY2ZWZTs7OzbS9URCSENBtw3MTj6lUfSc7B3a9x93F3Hx8ZGWlLcSIioaXZgA8A28uebwMebOEcEZGulNpSZDPLAz8AzgV+BtwBvM7d7y4755XAW4BXAGcBV7n7zgb3nQUeaKGk44GHW7gutE6tGzq39k6tGzq39k6tG5LV/rC7n1d9MLV1tO5eMLO3AF8G+oDr3P1uM9sVvT4JfIFS870fOAK8IcF9WxqDMLMpdx9v5dqQOrVu6NzaO7Vu6NzaO7VuOLraUw0ycPcvUGqy5ccmyx478OY0axARySqthBMRCaSXGvA1oQtoUafWDZ1be6fWDZ1be6fWDUdRe8flAYuIdIte+gQsIpIpasAiIoF0fQM2s+vMbMbMvhe6lmaY2XYz+5qZ3Wtmd5vZ20PXlISZHWNmt5vZd6K63xO6pmaYWZ+ZfdvM/jl0Lc0ws5+a2V1mdqeZHfATlE8AAAW3SURBVN2eXevMzDab2afN7L7o/+9nh66pETM7LfqzXvl53MyubPo+3T4GbGYvBuYohf48L3Q9SUWhRE9z931mtgmYBn7b3e8JXFpdZmbARnefM7N+4F+Bt0dhS5lnZr8PjAPHuvsFoetJysx+Coy7e8ctZjCzG4Bb3f3DZjYAbHD3R0PXlVSU/Pgz4Cx3b2qRWNd/Anb3rwOPhK6jWe7+c3ffFz0+DNxLTFBR1kTJdnPR0/7opyP+ljezbcArgQ+HrqVXmNmxwIuBjwC4+2InNd/IucCPmm2+0AMNuBuY2Q7gBcC3wlaSTPRr/J3ADPBVd++IuoH/AfwRUAxdSAsc+IqZTZvZ5aGLacIzgFng+mjo58NmtjF0UU26GPhEKxeqAWecmQ0DNwFXuvvjoetJwt2X3f0MSuFKO80s80M/ZnYBMOPu06FradGL3P1MSpscvDkaeusEeeBMYLe7vwB4Alize05WRUMmrwI+1cr1asAZFo2h3gTc6O43h66nWdGvkv8CrAkhyaAXAa+KxlI/CbzUzPaGLSk5d38w+ucM8BlKGyJ0ggPAgbLfkj5NqSF3ivOBfe7+UCsXqwFnVPRl1keAe939/aHrScrMRsxsc/R4CHgZcF/Yqhpz9z92923uvoPSr5T/x90nApeViJltjL6oJfr1/eVAR8z6cfdfAPvN7LTo0LlApr9orvJaWhx+gJTDeLLAzD4BnAMcb2YHgD9194+ErSqRFwGvB+6KxlMB3hUFHGXZ04Abom+Gc8A/untHTenqQCcAnyn9nU0e+Li7fylsSU15K3Bj9Ov8j0mQipgFZrYB+C3gTS3fo9unoYmIZJWGIEREAlEDFhEJRA1YRCQQNWARkUDUgEVEAlEDliDMbDlKkfqemX0qmtJT69wzzOwVCe55zkqKmZldamZXt7PmqvfaYWavK3te8/3MbNjMPmRmP4oS4r5uZmelVZt0DjVgCWXe3c+IEuoWgV11zj2D0u7ZWbIDeF2jkyIfphQIdaq7Pxe4lNJW5tLj1IAlC24Fnhmt6LrOzO6IglkujCbnvxd4TfSJ+TVmttPMvhGd842yVVQNmdlElFd8Z/SptC86Pmdm/z3KMb7NzE6Ijv9K9PwOM3uvma0kvf0l8JvRfd4RHTvRzL5kZj80s79auR44C/gTdy8CuPuP3f1/RZ+i74sCaL5nZjea2cvM7N+ie3TKcmJpkRqwBGVmeUrr6e8C/hulJcAvBF4C/DWlOMt3A/8QfWL+B0pLm18chbe8G/jzhO/1HOA1lIJrzgCWgf8UvbwRuM3dnw98HbgsOv4B4ANRTQ+W3e6dlDJsz3D3v4uOnRHd/99R+gtjO/Bc4E53X65R1jOj9/hV4NmUPlX/BvCHwLuS/HtJ5+r6pciSWUNlS6xvpZR78Q1KgTh/GB0/Bjg55tqnUFrufCqlGMb+hO95LjAG3BEt2x2iFJkJpWGQlSXT05SWmAKcDfx29PjjwN/Uuf8t7v4YgJndA5ySoKafuPtd0TV3R/dwM7uL0jCHdDE1YAllPvoUuioKILrI3b9fdbz6C6v3AV9z99+JspL/JeF7GnCDu/9xzGtL/uS6/GVa+29joezxyj3uBp5vZrmVIYg61xTLnhdbrEE6iIYgJEu+DLw1asSY2Qui44eBTWXnPYXSFjBQ+kIrqVuAV5vZaHT/48ys0afU24CLoscXlx2vrimWu/8ImALeU/bvdaqZXdhE3dKl1IAlS95HaTjhu1baRPV90fGvAaevfAkH/BXwF2b2b0BfnftdamYHVn6Ax4E/obRzxHeBr1JKb6vnSuD3zez26NzHouPfBQrRl3bvqHl1ye8BTwXuj4YWrqVyPFl6lNLQROqI5ifPR+OyFwOvdXd9epW20BiTSH1jwNXR8MGjwBsD1yNdRJ+ARUQC0RiwiEggasAiIoGoAYuIBKIGLCISiBqwiEgg/x/sn0KlUJ6zZQAAAABJRU5ErkJggg==\n",
      "text/plain": [
       "<Figure size 360x360 with 1 Axes>"
      ]
     },
     "metadata": {
      "needs_background": "light"
     },
     "output_type": "display_data"
    }
   ],
   "source": [
    "sns.relplot('PetalLengthCm','PetalWidthCm',data=df,kind='scatter')"
   ]
  },
  {
   "cell_type": "code",
   "execution_count": 28,
   "metadata": {},
   "outputs": [
    {
     "data": {
      "text/plain": [
       "<seaborn.axisgrid.FacetGrid at 0x26465e5a9d0>"
      ]
     },
     "execution_count": 28,
     "metadata": {},
     "output_type": "execute_result"
    },
    {
     "data": {
      "image/png": "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\n",
      "text/plain": [
       "<Figure size 360x360 with 1 Axes>"
      ]
     },
     "metadata": {
      "needs_background": "light"
     },
     "output_type": "display_data"
    }
   ],
   "source": [
    "sns.relplot('PetalLengthCm','SepalLengthCm',data=df,kind='scatter')"
   ]
  },
  {
   "cell_type": "code",
   "execution_count": 29,
   "metadata": {},
   "outputs": [
    {
     "data": {
      "text/html": [
       "<div>\n",
       "<style scoped>\n",
       "    .dataframe tbody tr th:only-of-type {\n",
       "        vertical-align: middle;\n",
       "    }\n",
       "\n",
       "    .dataframe tbody tr th {\n",
       "        vertical-align: top;\n",
       "    }\n",
       "\n",
       "    .dataframe thead th {\n",
       "        text-align: right;\n",
       "    }\n",
       "</style>\n",
       "<table border=\"1\" class=\"dataframe\">\n",
       "  <thead>\n",
       "    <tr style=\"text-align: right;\">\n",
       "      <th></th>\n",
       "      <th>Id</th>\n",
       "      <th>SepalLengthCm</th>\n",
       "      <th>SepalWidthCm</th>\n",
       "      <th>PetalLengthCm</th>\n",
       "      <th>PetalWidthCm</th>\n",
       "    </tr>\n",
       "  </thead>\n",
       "  <tbody>\n",
       "    <tr>\n",
       "      <th>count</th>\n",
       "      <td>50.00000</td>\n",
       "      <td>50.000000</td>\n",
       "      <td>50.000000</td>\n",
       "      <td>50.000000</td>\n",
       "      <td>50.000000</td>\n",
       "    </tr>\n",
       "    <tr>\n",
       "      <th>mean</th>\n",
       "      <td>75.50000</td>\n",
       "      <td>5.936000</td>\n",
       "      <td>2.770000</td>\n",
       "      <td>4.260000</td>\n",
       "      <td>1.326000</td>\n",
       "    </tr>\n",
       "    <tr>\n",
       "      <th>std</th>\n",
       "      <td>14.57738</td>\n",
       "      <td>0.516171</td>\n",
       "      <td>0.313798</td>\n",
       "      <td>0.469911</td>\n",
       "      <td>0.197753</td>\n",
       "    </tr>\n",
       "    <tr>\n",
       "      <th>min</th>\n",
       "      <td>51.00000</td>\n",
       "      <td>4.900000</td>\n",
       "      <td>2.000000</td>\n",
       "      <td>3.000000</td>\n",
       "      <td>1.000000</td>\n",
       "    </tr>\n",
       "    <tr>\n",
       "      <th>25%</th>\n",
       "      <td>63.25000</td>\n",
       "      <td>5.600000</td>\n",
       "      <td>2.525000</td>\n",
       "      <td>4.000000</td>\n",
       "      <td>1.200000</td>\n",
       "    </tr>\n",
       "    <tr>\n",
       "      <th>50%</th>\n",
       "      <td>75.50000</td>\n",
       "      <td>5.900000</td>\n",
       "      <td>2.800000</td>\n",
       "      <td>4.350000</td>\n",
       "      <td>1.300000</td>\n",
       "    </tr>\n",
       "    <tr>\n",
       "      <th>75%</th>\n",
       "      <td>87.75000</td>\n",
       "      <td>6.300000</td>\n",
       "      <td>3.000000</td>\n",
       "      <td>4.600000</td>\n",
       "      <td>1.500000</td>\n",
       "    </tr>\n",
       "    <tr>\n",
       "      <th>max</th>\n",
       "      <td>100.00000</td>\n",
       "      <td>7.000000</td>\n",
       "      <td>3.400000</td>\n",
       "      <td>5.100000</td>\n",
       "      <td>1.800000</td>\n",
       "    </tr>\n",
       "  </tbody>\n",
       "</table>\n",
       "</div>"
      ],
      "text/plain": [
       "              Id  SepalLengthCm  SepalWidthCm  PetalLengthCm  PetalWidthCm\n",
       "count   50.00000      50.000000     50.000000      50.000000     50.000000\n",
       "mean    75.50000       5.936000      2.770000       4.260000      1.326000\n",
       "std     14.57738       0.516171      0.313798       0.469911      0.197753\n",
       "min     51.00000       4.900000      2.000000       3.000000      1.000000\n",
       "25%     63.25000       5.600000      2.525000       4.000000      1.200000\n",
       "50%     75.50000       5.900000      2.800000       4.350000      1.300000\n",
       "75%     87.75000       6.300000      3.000000       4.600000      1.500000\n",
       "max    100.00000       7.000000      3.400000       5.100000      1.800000"
      ]
     },
     "execution_count": 29,
     "metadata": {},
     "output_type": "execute_result"
    }
   ],
   "source": [
    "versicolor.describe()"
   ]
  },
  {
   "cell_type": "code",
   "execution_count": 50,
   "metadata": {},
   "outputs": [
    {
   
     ]
    }
   ],
   "source": [
   ]
  },
  {
   "cell_type": "code",
   "execution_count": null,
   "metadata": {},
   "outputs": [],
   "source": []
  }
 ],
 "metadata": {
  "kernelspec": {
   "display_name": "Python 3",
   "language": "python",
   "name": "python3"
  },
  "language_info": {
   "codemirror_mode": {
    "name": "ipython",
    "version": 3
   },
   "file_extension": ".py",
   "mimetype": "text/x-python",
   "name": "python",
   "nbconvert_exporter": "python",
   "pygments_lexer": "ipython3",
   "version": "3.8.2"
  }
 },
 "nbformat": 4,
 "nbformat_minor": 4
}
